{
 "cells": [
  {
   "cell_type": "code",
   "execution_count": null,
   "metadata": {},
   "outputs": [],
   "source": [
    "%load_ext autoreload\n",
    "%autoreload 2\n",
    "%matplotlib inline\n",
    "\n",
    "from IPython.core.interactiveshell import InteractiveShell\n",
    "InteractiveShell.ast_node_interactivity = \"all\"\n",
    "\n",
    "from IPython.display import Audio, display\n",
    "def make_noise():\n",
    "    display(Audio(url='https://sound.peal.io/ps/audios/000/000/537/original/woo_vu_luvub_dub_dub.wav', autoplay=True))"
   ]
  },
  {
   "cell_type": "code",
   "execution_count": null,
   "metadata": {},
   "outputs": [],
   "source": [
    "import numpy as np \n",
    "import pandas as pd\n",
    "pd.options.display.max_columns = 300\n",
    "import matplotlib.pyplot as plt\n"
   ]
  },
  {
   "cell_type": "code",
   "execution_count": null,
   "metadata": {
    "scrolled": false
   },
   "outputs": [],
   "source": [
    "from numebot.data.data_constants import NC\n",
    "from numebot.secret import PUBLIC_ID, SECRET_KEY\n",
    "from numebot.env import NUMERAI_DATA_FOLDER, MODEL_CONFIGS_PATH\n",
    "from numebot_private.round_manager_extended import RoundManagerExtended\n",
    "\n",
    "rm = RoundManagerExtended(NUMERAI_DATA_FOLDER,\n",
    "                          model_configs_path=MODEL_CONFIGS_PATH,\n",
    "                          public_id=PUBLIC_ID, \n",
    "                          secret_key=SECRET_KEY, \n",
    "                          #nrows=50000, testing=True\n",
    "                         )\n",
    "\n",
    "# Get list of models with their model file\n",
    "rm.models_info()"
   ]
  },
  {
   "cell_type": "code",
   "execution_count": null,
   "metadata": {},
   "outputs": [],
   "source": [
    "xx = rm.model_cfgs.loc['rpica_4', 'parameters']\n",
    "#xx = xx.replace('´', '\\'').replace('`', '\\'').replace('‘', '\\'').replace('’', '\\'')\n",
    "xx\n",
    "d = eval(f'dict({xx})')\n",
    "d"
   ]
  },
  {
   "cell_type": "markdown",
   "metadata": {
    "heading_collapsed": true
   },
   "source": [
    "# General commands "
   ]
  },
  {
   "cell_type": "code",
   "execution_count": null,
   "metadata": {
    "hidden": true
   },
   "outputs": [],
   "source": [
    "# Get predictions for each model\n",
    "rm.generate_predictions_for_all_models()"
   ]
  },
  {
   "cell_type": "code",
   "execution_count": null,
   "metadata": {
    "hidden": true
   },
   "outputs": [],
   "source": [
    "# Submit predictions (test with rpica_test_3)\n",
    "# Can I check if I submitted? (for example requesting the scoring)\n",
    "rm.submit_predictions()"
   ]
  },
  {
   "cell_type": "code",
   "execution_count": null,
   "metadata": {
    "hidden": true
   },
   "outputs": [],
   "source": [
    "# check if a new round has started\n",
    "if rm.napi.check_new_round():\n",
    "    print(\"new round has started wihtin the last 24hours!\")\n",
    "else:\n",
    "    print(\"no new round within the last 24 hours\")"
   ]
  },
  {
   "cell_type": "code",
   "execution_count": null,
   "metadata": {
    "hidden": true
   },
   "outputs": [],
   "source": [
    "pd.DataFrame(rm.napi.get_competitions()).sort_values('openTime', ascending=False)"
   ]
  },
  {
   "cell_type": "code",
   "execution_count": null,
   "metadata": {
    "hidden": true
   },
   "outputs": [],
   "source": [
    "# Check if submission is done for a model.\n",
    "rm['rpica'].round_submission_done()\n",
    "rm['rpica_5'].round_submission_done()"
   ]
  },
  {
   "cell_type": "code",
   "execution_count": null,
   "metadata": {
    "hidden": true
   },
   "outputs": [],
   "source": [
    "models_dict = rm['rpica'].models_dict\n",
    "pd.DataFrame(rm.napi.get_submission_filenames(round_num=263, model_id=models_dict['rpica_4']))\n",
    "pd.DataFrame(rm.napi.get_submission_filenames(round_num=263, model_id=models_dict['rpica_5']))\n",
    "pd.DataFrame(rm.napi.get_submission_filenames(round_num=263, model_id=models_dict['rpica_test_4']))\n",
    "pd.DataFrame(rm.napi.get_submission_filenames(round_num=263, model_id=models_dict['rpica_test_5']))\n"
   ]
  },
  {
   "cell_type": "markdown",
   "metadata": {
    "heading_collapsed": true
   },
   "source": [
    "# Monitoring"
   ]
  },
  {
   "cell_type": "code",
   "execution_count": null,
   "metadata": {
    "hidden": true,
    "scrolled": false
   },
   "outputs": [],
   "source": [
    "full_df = rm.mm.download_round_details()\n",
    "#full_df = rm.mm.load_round_details_csv()\n",
    "full_df.shape"
   ]
  },
  {
   "cell_type": "code",
   "execution_count": null,
   "metadata": {
    "hidden": true,
    "scrolled": false
   },
   "outputs": [],
   "source": [
    "import numebot.monitoring.metrics_plotter as mp\n",
    "\n",
    "_ = mp.plot_round_details(full_df, rounds=[262, 263])\n",
    "\n",
    "_ = mp.plot_round_details(full_df, model_names=['rpica', 'rpica_test_1'])"
   ]
  },
  {
   "cell_type": "code",
   "execution_count": null,
   "metadata": {
    "hidden": true
   },
   "outputs": [],
   "source": [
    "models_status, models_leaderboard = rm.get_submission_status_and_leaderboard_for_all_models()\n",
    "models_status.shape, models_leaderboard.shape\n",
    "\n",
    "models_status.head()\n",
    "models_leaderboard.head()"
   ]
  },
  {
   "cell_type": "code",
   "execution_count": null,
   "metadata": {
    "hidden": true,
    "scrolled": false
   },
   "outputs": [],
   "source": [
    "# Not sure if this is useful (maybe rolling_score_rep)\n",
    "www = pd.DataFrame(rm.napi.daily_user_performances(\"rpica_test_1\"))\n",
    "www.head()"
   ]
  },
  {
   "cell_type": "markdown",
   "metadata": {
    "hidden": true
   },
   "source": [
    "## Correct function to get the data"
   ]
  },
  {
   "cell_type": "code",
   "execution_count": null,
   "metadata": {
    "hidden": true
   },
   "outputs": [],
   "source": [
    "pd.DataFrame(rm.napi.daily_submissions_performances('rpica_test_1')).sort_values(NC.date, ascending=False).head()\n",
    "pd.DataFrame(rm.napi.daily_submissions_performances('rpica_4')).sort_values(NC.date, ascending=False).head()"
   ]
  },
  {
   "cell_type": "code",
   "execution_count": null,
   "metadata": {
    "hidden": true
   },
   "outputs": [],
   "source": [
    "import matplotlib.pyplot as plt\n",
    "\n",
    "plt.figure(figsize=(15,5))\n",
    "ax = plt.subplot(1,1,1)\n",
    "for model_name, model in rm.models_dict.items():\n",
    "    \n",
    "    print(model_name)\n",
    "    df = pd.DataFrame(rm.napi.daily_submissions_performances(model_name)).sort_values(NC.date, ascending=False)\n",
    "    \n",
    "    for round_number, round_df in df.groupby('roundNumber'): \n",
    "        _=ax.plot(round_df['date'], round_df['correlation'], label='corr')\n",
    "        _=ax.plot(round_df['date'], round_df['mmc'], label='mmc')\n",
    "        _=ax.plot(round_df['date'], round_df['fnc'], label='fnc')\n",
    "    break\n",
    "    \n",
    "_=ax.legend()\n",
    "    "
   ]
  },
  {
   "cell_type": "markdown",
   "metadata": {
    "heading_collapsed": true
   },
   "source": [
    "# Check individual model"
   ]
  },
  {
   "cell_type": "code",
   "execution_count": null,
   "metadata": {
    "hidden": true
   },
   "outputs": [],
   "source": [
    "rm.model_cfgs"
   ]
  },
  {
   "cell_type": "markdown",
   "metadata": {
    "heading_collapsed": true
   },
   "source": [
    "# Check individual model"
   ]
  },
  {
   "cell_type": "code",
   "execution_count": null,
   "metadata": {
    "hidden": true
   },
   "outputs": [],
   "source": [
    "model = rm['rpica_test_5']"
   ]
  },
  {
   "cell_type": "code",
   "execution_count": null,
   "metadata": {
    "hidden": true
   },
   "outputs": [],
   "source": [
    "status_df = model.get_weekly_submission_status(to_be_saved=False)\n",
    "lb_df = model.get_daily_leaderboard(to_be_saved=False)\n",
    "\n",
    "status_df\n",
    "lb_df"
   ]
  },
  {
   "cell_type": "code",
   "execution_count": null,
   "metadata": {
    "hidden": true
   },
   "outputs": [],
   "source": [
    "model.submit_predictions()"
   ]
  },
  {
   "cell_type": "code",
   "execution_count": null,
   "metadata": {
    "hidden": true
   },
   "outputs": [],
   "source": [
    "from sklearn.datasets import load_iris\n",
    "from sklearn.linear_model import LogisticRegression\n",
    "from sklearn.model_selection import RandomizedSearchCV\n",
    "from scipy.stats import uniform\n",
    "from sklearn.model_selection import KFold, GroupKFold\n",
    "from xgboost import XGBRegressor\n",
    "\n",
    "iris = load_iris()\n",
    "model = XGBRegressor(max_depth=5, \n",
    "                     learning_rate=0.01, \n",
    "                     n_estimators=2000, \n",
    "                     colsample_bytree=0.1,\n",
    "                     n_jobs=-1,)\n",
    "\n",
    "gkf = KFold(n_splits=5)\n",
    "distributions = dict(max_depth=[3, 4, 5, 6, 7], \n",
    "                     learning_rate=[0.1, 0.01, 0.001], \n",
    "                     n_estimators=[1000, 2000, 3000],\n",
    "                     colsample_bytree=[0.05, 0.1, 0.3, 0.5])\n",
    "\n",
    "clf = RandomizedSearchCV(model, distributions, random_state=0, cv=gkf, n_iter=20)\n",
    "\n",
    "search = clf.fit(iris.data, iris.target)\n",
    "search.best_params_"
   ]
  },
  {
   "cell_type": "code",
   "execution_count": null,
   "metadata": {
    "hidden": true,
    "scrolled": true
   },
   "outputs": [],
   "source": [
    "from sklearn.model_selection import KFold, GroupKFold\n",
    "data = rm.data\n",
    "model = XGBRegressor(max_depth=5, \n",
    "                     learning_rate=0.01, \n",
    "                     n_estimators=2000, \n",
    "                     colsample_bytree=0.1,\n",
    "                     n_jobs=-1,)\n",
    "gkf = GroupKFold(n_splits=5)\n",
    "distributions = dict(max_depth=[3, 4, 5, 6, 7], \n",
    "                     learning_rate=[0.1, 0.01, 0.001], \n",
    "                     n_estimators=[1000, 2000, 3000],\n",
    "                     colsample_bytree=[0.05, 0.1, 0.3, 0.5])\n",
    "\n",
    "clf = RandomizedSearchCV(model, \n",
    "                         distributions, \n",
    "                         random_state=0, \n",
    "                         cv=gkf, \n",
    "                         scoring='neg_mean_squared_error',\n",
    "                         verbose=10,\n",
    "                         n_iter=20)\n",
    "\n",
    "feature_names = [f for f in data.test.columns if f.startswith(\"feature\")]\n",
    "search = clf.fit(data.test[feature_names], data.test[NC.target], groups=data.test[NC.era])\n",
    "\n",
    "search.best_params_"
   ]
  },
  {
   "cell_type": "code",
   "execution_count": null,
   "metadata": {
    "hidden": true
   },
   "outputs": [],
   "source": [
    "# Train with best parameters\n",
    "from xgboost import XGBRegressor\n",
    "feature_names = [f for f in rm.data.test.columns if f.startswith(\"feature\")]\n",
    "\n",
    "model = XGBRegressor(max_depth=3, \n",
    "                     learning_rate=0.01, \n",
    "                     n_estimators=2000, \n",
    "                     colsample_bytree=0.3,\n",
    "                     n_jobs=-1,)\n",
    "\n",
    "model.fit(rm.data.test[feature_names], rm.data.test[NC.target])\n",
    "\n",
    "rm['rpica_1'].model = model\n",
    "rm['rpica_1'].save_model()"
   ]
  },
  {
   "cell_type": "code",
   "execution_count": null,
   "metadata": {
    "hidden": true
   },
   "outputs": [],
   "source": [
    "rm['rpica_1'].model_ready = True\n",
    "rm['rpica_1'].predict(rm.data.tournament, to_be_saved_for_submission=True)\n",
    "rm['rpica_1'].submit_predictions()\n"
   ]
  },
  {
   "cell_type": "code",
   "execution_count": null,
   "metadata": {
    "hidden": true
   },
   "outputs": [],
   "source": [
    "make_noise()"
   ]
  },
  {
   "cell_type": "code",
   "execution_count": null,
   "metadata": {
    "hidden": true
   },
   "outputs": [],
   "source": [
    "feature_cols = [f for f in rm.data.tournament.columns if f.startswith(\"feature\")]\n",
    "output_values = search.predict(rm.data.tournament[feature_cols])\n",
    "output = pd.DataFrame({'prediction': output_values}, index=rm.data.tournament.index)\n",
    "\n",
    "output.to_csv(f'ExampleWithTestDataAndTuning_submission.csv', header=True)"
   ]
  },
  {
   "cell_type": "markdown",
   "metadata": {
    "ExecuteTime": {
     "end_time": "2021-04-05T05:53:42.006522Z",
     "start_time": "2021-04-05T05:53:41.175801Z"
    }
   },
   "source": [
    "# EDA"
   ]
  },
  {
   "cell_type": "code",
   "execution_count": null,
   "metadata": {
    "scrolled": false
   },
   "outputs": [],
   "source": [
    "for dataset, set_name in zip([rm.data.train, rm.data.val, rm.data.test, rm.data.live], ['train', 'val', 'test', 'live']):\n",
    "    print(f'Info about {set_name}: shape {dataset.shape}')\n",
    "    #dataset[[col for col in dataset.columns if 'feature' not in col]].head(2)\n",
    "    dataset.groupby('data_type')['era'].agg(\n",
    "        ['count',\n",
    "         'min',\n",
    "         'max', \n",
    "         pd.Series.nunique, \n",
    "         lambda x: sorted(list(np.unique(x)))\n",
    "        ])"
   ]
  },
  {
   "cell_type": "code",
   "execution_count": null,
   "metadata": {},
   "outputs": [],
   "source": [
    "rm.data.train[NC.target].unique()\n",
    "rm.data.val[NC.target].unique()\n",
    "rm.data.test[NC.target].unique()\n",
    "rm.data.live[NC.target].unique()"
   ]
  },
  {
   "cell_type": "code",
   "execution_count": null,
   "metadata": {},
   "outputs": [],
   "source": [
    "import chart_studio.plotly as py\n",
    "import plotly.figure_factory as ff\n",
    "\n",
    "#table = ff.create_table(rm.data.val)\n",
    "#py.iplot(table, filename='jupyter-table1')"
   ]
  },
  {
   "cell_type": "code",
   "execution_count": null,
   "metadata": {},
   "outputs": [],
   "source": [
    "plt.figure(figsize=(15,5))\n",
    "ax = plt.subplot(1,3,1)\n",
    "rm.data.train[NC.target].hist(ax=ax)\n",
    "ax = plt.subplot(1,3,2)\n",
    "rm.data.val[NC.target].hist(ax=ax)\n",
    "ax = plt.subplot(1,3,3)\n",
    "rm.data.test[NC.target].hist(ax=ax)"
   ]
  },
  {
   "cell_type": "markdown",
   "metadata": {},
   "source": [
    "# Experiment: find eras similarity "
   ]
  },
  {
   "cell_type": "code",
   "execution_count": null,
   "metadata": {},
   "outputs": [],
   "source": [
    "rm.data.train.iloc[:5]"
   ]
  },
  {
   "cell_type": "code",
   "execution_count": null,
   "metadata": {},
   "outputs": [],
   "source": [
    "rm.data.all.shape"
   ]
  },
  {
   "cell_type": "code",
   "execution_count": null,
   "metadata": {},
   "outputs": [],
   "source": [
    "import numpy as np\n",
    "from sklearn.decomposition import PCA\n",
    "\n",
    "pca = PCA(n_components=2)\n",
    "transformed = pca.fit(rm.data.all[rm.data.features])\n",
    "transformed = pd.DataFrame(transformed, index=rm.data.all.index)\n",
    "\n",
    "print(pca.explained_variance_ratio_)\n",
    "\n",
    "print(pca.singular_values_.shape)\n",
    "\n",
    "from joblib import dump, load\n",
    "dump(pca, 'pca_fitted.joblib') "
   ]
  },
  {
   "cell_type": "code",
   "execution_count": null,
   "metadata": {},
   "outputs": [],
   "source": [
    "pca_x = load('pca_fitted.joblib') "
   ]
  },
  {
   "cell_type": "code",
   "execution_count": null,
   "metadata": {},
   "outputs": [],
   "source": [
    "transformed = pca.transform(rm.data.all[rm.data.features])"
   ]
  },
  {
   "cell_type": "code",
   "execution_count": null,
   "metadata": {},
   "outputs": [],
   "source": [
    "rm.data.all[\"data_type\"].unique()\n",
    "colormap = {'train': \"blue\", \n",
    "            'validation': \"orange\", \n",
    "            'test': \"red\"}"
   ]
  },
  {
   "cell_type": "code",
   "execution_count": null,
   "metadata": {
    "scrolled": false
   },
   "outputs": [],
   "source": [
    "plt.figure(figsize=(15,15))\n",
    "indexes = rm.data.all.sample(frac=0.1).index\n",
    "plt.scatter(\n",
    "    transformed.loc[indexes][0],\n",
    "    transformed.loc[indexes][1],\n",
    "    c=rm.data.all.loc[indexes][\"data_type\"].map(colormap),\n",
    "    alpha=0.1,\n",
    ");\n"
   ]
  },
  {
   "cell_type": "markdown",
   "metadata": {},
   "source": [
    "# PCA only train val "
   ]
  },
  {
   "cell_type": "code",
   "execution_count": null,
   "metadata": {},
   "outputs": [],
   "source": []
  },
  {
   "cell_type": "code",
   "execution_count": null,
   "metadata": {},
   "outputs": [],
   "source": [
    "import numpy as np\n",
    "from sklearn.decomposition import PCA\n",
    "\n",
    "name = 'pca_train_val'\n",
    "data = rm.data.train_val\n",
    "\n",
    "pca = PCA(n_components=2)\n",
    "transformed = pca.fit_transform(data[rm.data.features])\n",
    "transformed = pd.DataFrame(transformed, index=data.index)\n",
    "\n",
    "print(pca.explained_variance_ratio_)\n",
    "print(pca.singular_values_.shape)\n",
    "\n",
    "from joblib import dump, load\n",
    "dump(pca, 'pca_fitted.joblib') "
   ]
  },
  {
   "cell_type": "code",
   "execution_count": null,
   "metadata": {},
   "outputs": [],
   "source": [
    "pca_x = load('pca_fitted.joblib') "
   ]
  },
  {
   "cell_type": "code",
   "execution_count": null,
   "metadata": {},
   "outputs": [],
   "source": [
    "data[\"data_type\"].unique()\n",
    "colormap = {'train': \"blue\", \n",
    "            'validation': \"orange\", \n",
    "            'test': \"red\"}"
   ]
  },
  {
   "cell_type": "code",
   "execution_count": null,
   "metadata": {
    "scrolled": false
   },
   "outputs": [],
   "source": [
    "plt.figure(figsize=(15,15))\n",
    "indexes = data.sample(frac=1).index\n",
    "plt.scatter(\n",
    "    transformed.loc[indexes][0],\n",
    "    transformed.loc[indexes][1],\n",
    "    c=data.loc[indexes][\"data_type\"].map(colormap),\n",
    "    alpha=0.1,\n",
    ");\n"
   ]
  },
  {
   "cell_type": "code",
   "execution_count": null,
   "metadata": {},
   "outputs": [],
   "source": [
    "all = rm.data.all\n",
    "transformed = pca.transform(all[rm.data.features])"
   ]
  },
  {
   "cell_type": "code",
   "execution_count": null,
   "metadata": {},
   "outputs": [],
   "source": [
    "all.shape\n",
    "transformed[:,0].shape"
   ]
  },
  {
   "cell_type": "code",
   "execution_count": null,
   "metadata": {
    "scrolled": false
   },
   "outputs": [],
   "source": [
    "projection_with_era = pd.DataFrame({\n",
    "    'era': all['era'],\n",
    "    'data_type': all['data_type'],\n",
    "    'trans_0': transformed[:,0],\n",
    "    'trans_1': transformed[:,1],\n",
    "})\n",
    "\n",
    "means = projection_with_era.groupby('era').mean()\n",
    "stds = projection_with_era.groupby('era').std()\n",
    "\n",
    "data_type = projection_with_era.groupby('era')['data_type'].agg(pd.Series.mode)\n",
    "\n",
    "\n",
    "plt.figure(figsize=(15,15))\n",
    "plt.scatter(\n",
    "    means['trans_0'],\n",
    "    means['trans_1'],\n",
    "    c=data_type.map(colormap),\n",
    "    #c=rm.data.all.loc[indexes][\"era\"],#.map(colormap),\n",
    "    #alpha=0.1,\n",
    ");\n",
    "\n",
    "plt.figure(figsize=(15,15))\n",
    "plt.scatter(\n",
    "    stds['trans_0'],\n",
    "    stds['trans_1'],\n",
    "    c=data_type.map(colormap),\n",
    "    #c=rm.data.all.loc[indexes][\"era\"],#.map(colormap),\n",
    "    #alpha=0.1,\n",
    ");"
   ]
  },
  {
   "cell_type": "markdown",
   "metadata": {},
   "source": [
    "# TNSE "
   ]
  },
  {
   "cell_type": "code",
   "execution_count": null,
   "metadata": {},
   "outputs": [],
   "source": [
    "import numpy as np\n",
    "\n",
    "from sklearn.manifold import TSNE\n",
    "\n",
    "tsne = TSNE(random_state=17)\n",
    "transformed = tsne.fit_transform(rm.data.all[rm.data.features])\n",
    "\n",
    "from joblib import dump, load\n",
    "dump(tsne, 'tsne_fitted.joblib') \n",
    "\n",
    "transformed = pd.DataFrame(transformed, index=rm.data.all.index)"
   ]
  },
  {
   "cell_type": "code",
   "execution_count": null,
   "metadata": {},
   "outputs": [],
   "source": [
    "from cuml.manifold import TSNE\n",
    "tsne = TSNE(n_components = 2)\n",
    "transformed = tsne.fit_transform(rm.data.all[rm.data.features])\n",
    "\n",
    "from joblib import dump, load\n",
    "dump(tsne, 'tsne_fitted_cuda.joblib') \n",
    "\n",
    "transformed = pd.DataFrame(transformed, index=rm.data.all.index)\n"
   ]
  },
  {
   "cell_type": "code",
   "execution_count": null,
   "metadata": {},
   "outputs": [],
   "source": [
    "cmap_names = ['Pastel1', 'Pastel2', 'Paired', 'Accent',\n",
    "                        'Dark2', 'Set1', 'Set2', 'Set3',\n",
    "                        'tab10', 'tab20', 'tab20b', 'tab20c']\n",
    "cmap=plt.get_cmap(cmap_names[-3])\n",
    "for c in cmap:\n",
    "    print(c)"
   ]
  },
  {
   "cell_type": "code",
   "execution_count": null,
   "metadata": {},
   "outputs": [],
   "source": [
    "rm.data.all[\"data_type\"].unique()\n",
    "colormap = {'train': \"blue\", \n",
    "            'validation': \"green\", \n",
    "            'test': \"red\"}"
   ]
  },
  {
   "cell_type": "code",
   "execution_count": null,
   "metadata": {
    "scrolled": false
   },
   "outputs": [],
   "source": [
    "projection_with_era = pd.DataFrame({\n",
    "    'era': rm.data.all['era'],\n",
    "    'data_type':rm.data.all['data_type'],\n",
    "    'trans_0': transformed[0],\n",
    "    'trans_1': transformed[1],\n",
    "})\n",
    "\n",
    "means = projection_with_era.groupby('era').mean()\n",
    "stds = projection_with_era.groupby('era').std()\n",
    "\n",
    "data_type = projection_with_era.groupby('era')['data_type'].agg(pd.Series.mode)\n",
    "\n",
    "plt.figure(figsize=(15,15))\n",
    "plt.scatter(\n",
    "    transformed[0],\n",
    "    transformed[1],\n",
    "    #c=data_type.map(colormap),\n",
    "    #c=rm.data.all.loc[indexes][\"era\"],#.map(colormap),\n",
    "    #alpha=0.1,\n",
    ");\n",
    "\n",
    "plt.figure(figsize=(15,15))\n",
    "plt.scatter(\n",
    "    means['trans_0'],\n",
    "    means['trans_1'],\n",
    "    c=data_type.map(colormap),\n",
    "    #c=rm.data.all.loc[indexes][\"era\"],#.map(colormap),\n",
    "    #alpha=0.1,\n",
    ");\n",
    "\n",
    "plt.figure(figsize=(15,15))\n",
    "plt.scatter(\n",
    "    stds['trans_0'],\n",
    "    stds['trans_1'],\n",
    "    c=data_type.map(colormap),\n",
    "    #c=rm.data.all.loc[indexes][\"era\"],#.map(colormap),\n",
    "    #alpha=0.1,\n",
    ");"
   ]
  },
  {
   "cell_type": "code",
   "execution_count": null,
   "metadata": {
    "scrolled": false
   },
   "outputs": [],
   "source": [
    "plt.figure(figsize=(15,15))\n",
    "\n",
    "indexes = rm.data.all.sample(frac=0.1).index\n",
    "plot_eras = rm.data.train_val['era'].unique()\n",
    "\n",
    "plot_eras = np.random.choice(plot_eras,2)\n",
    "print(plot_eras)\n",
    "is_in_eras = rm.data.all['era'].isin(plot_eras)\n",
    " #is_in_eras\n",
    "indexes = rm.data.all.loc[is_in_eras].sample(frac=0.1).index\n",
    "print(len(indexes), 'of', len(rm.data.all))\n",
    "print(len(plot_eras))\n",
    "plt.scatter(\n",
    "    transformed.loc[indexes][0],\n",
    "    transformed.loc[indexes][1],\n",
    "    #c=rm.data.all.loc[indexes][\"data_type\"].map(colormap),\n",
    "    c=rm.data.all.loc[indexes][\"era\"],#.map(colormap),\n",
    "    #alpha=0.1,\n",
    ");\n"
   ]
  },
  {
   "cell_type": "code",
   "execution_count": null,
   "metadata": {},
   "outputs": [],
   "source": [
    "make_noise()"
   ]
  },
  {
   "cell_type": "code",
   "execution_count": null,
   "metadata": {},
   "outputs": [],
   "source": []
  },
  {
   "cell_type": "code",
   "execution_count": null,
   "metadata": {},
   "outputs": [],
   "source": []
  },
  {
   "cell_type": "code",
   "execution_count": null,
   "metadata": {},
   "outputs": [],
   "source": []
  },
  {
   "cell_type": "code",
   "execution_count": null,
   "metadata": {},
   "outputs": [],
   "source": []
  },
  {
   "cell_type": "code",
   "execution_count": null,
   "metadata": {},
   "outputs": [],
   "source": []
  }
 ],
 "metadata": {
  "kernelspec": {
   "display_name": "Python 3",
   "language": "python",
   "name": "python3"
  },
  "language_info": {
   "codemirror_mode": {
    "name": "ipython",
    "version": 3
   },
   "file_extension": ".py",
   "mimetype": "text/x-python",
   "name": "python",
   "nbconvert_exporter": "python",
   "pygments_lexer": "ipython3",
   "version": "3.8.5"
  }
 },
 "nbformat": 4,
 "nbformat_minor": 5
}
