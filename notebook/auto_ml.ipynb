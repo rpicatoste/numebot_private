{
 "cells": [
  {
   "cell_type": "markdown",
   "id": "6ddf1efd",
   "metadata": {},
   "source": [
    "# Using mljar - Automl\n",
    "\n",
    "Links:\n",
    "\n",
    "- https://github.com/mljar/mljar-supervised\n",
    "- https://supervised.mljar.com/\n",
    "- https://github.com/mljar/mljar-supervised/blob/ede835a4f6d2fa478477b24d2728b3dd97f5351a/supervised/automl.py#L15\n"
   ]
  },
  {
   "cell_type": "code",
   "execution_count": 1,
   "id": "440fe441",
   "metadata": {
    "ExecuteTime": {
     "end_time": "2021-05-01T11:32:06.350943Z",
     "start_time": "2021-05-01T11:32:06.110337Z"
    }
   },
   "outputs": [],
   "source": [
    "%load_ext autoreload\n",
    "%autoreload 2\n",
    "%matplotlib inline\n",
    "\n",
    "from IPython.core.interactiveshell import InteractiveShell\n",
    "InteractiveShell.ast_node_interactivity = \"all\"\n",
    "\n",
    "from IPython.display import Audio, display\n",
    "def make_noise():\n",
    "    display(Audio(url='https://sound.peal.io/ps/audios/000/000/537/original/woo_vu_luvub_dub_dub.wav', autoplay=True))\n"
   ]
  },
  {
   "cell_type": "code",
   "execution_count": 3,
   "id": "7b7361ce",
   "metadata": {},
   "outputs": [
    {
     "data": {
      "text/plain": [
       "{'concordance': None,\n",
       " 'consistency': None,\n",
       " 'corrWithExamplePreds': 0.4041152531196334,\n",
       " 'filename': 'auto_ml_submission_with_noise-xx4jkHsATjtV.csv',\n",
       " 'validationCorrPlusMmcSharpe': 0.3433549303468382,\n",
       " 'validationCorrPlusMmcSharpeDiff': -0.21160962762440955,\n",
       " 'validationCorrPlusMmcSharpeDiffRating': 0.07678074475118091,\n",
       " 'validationCorrPlusMmcSharpeRating': 0.0,\n",
       " 'validationCorrelation': 0.010368291452612621,\n",
       " 'validationCorrelationRating': 0.0,\n",
       " 'validationFeatureExposure': None,\n",
       " 'validationFeatureNeutralMean': 0.006042596769602023,\n",
       " 'validationFeatureNeutralMeanRating': 0.002662298100126407,\n",
       " 'validationMaxDrawdown': -0.031799318183670044,\n",
       " 'validationMaxDrawdownRating': 0.6714448051507133,\n",
       " 'validationMaxFeatureExposure': 0.2967121801654467,\n",
       " 'validationMaxFeatureExposureRating': 0.30933758560812613,\n",
       " 'validationMmcMean': -0.0002881940401453213,\n",
       " 'validationMmcMeanRating': 0.4819878724909174,\n",
       " 'validationSharpe': 0.5549645579712478,\n",
       " 'validationSharpeRating': 0.03516134925527852,\n",
       " 'validationStd': 0.01868279929535571,\n",
       " 'validationStdRating': 0.8605333855292067}"
      ]
     },
     "execution_count": 3,
     "metadata": {},
     "output_type": "execute_result"
    }
   ],
   "source": [
    "# provide api tokens\n",
    "from numebot.secret import PUBLIC_ID, SECRET_KEY\n",
    "\n",
    "\n",
    "import numerapi\n",
    "napi = numerapi.NumerAPI(PUBLIC_ID, SECRET_KEY)\n",
    "\n",
    "models_dict = napi.get_models()\n",
    "\n",
    "# upload predictions\n",
    "submission_id = napi.upload_predictions(\"preds.csv\", tournament=1)\n",
    "# check submission status\n",
    "napi.submission_status(model_id=models_dict['rpica_1'])"
   ]
  },
  {
   "cell_type": "code",
   "execution_count": null,
   "id": "72998294",
   "metadata": {},
   "outputs": [],
   "source": []
  },
  {
   "cell_type": "code",
   "execution_count": 4,
   "id": "cca64b76",
   "metadata": {
    "ExecuteTime": {
     "start_time": "2021-05-01T11:29:40.601Z"
    }
   },
   "outputs": [
    {
     "name": "stdout",
     "output_type": "stream",
     "text": [
      "Loading full training data ...\n",
      "Loading full tournament data ...\n"
     ]
    }
   ],
   "source": [
    "from supervised.automl import AutoML \n",
    "\n",
    "feature_cols = [f for f in rm.data.training.columns if f.startswith(\"feature\")]\n",
    "for col in feature_cols:\n",
    "    rm.data.training[col] = rm.data.training[col].astype(float)\n",
    "    \n",
    "X_train = rm.data.training[feature_cols]\n",
    "y_train = rm.data.training['target'].astype(float).values\n",
    "\n",
    "for col in feature_cols:\n",
    "    rm.data.training[col] = rm.data.training[col].astype(float)\n",
    "    rm.data.tournament[col] = rm.data.tournament[col].astype(float)\n",
    "\n",
    "X_test = rm.data.tournament[feature_cols]\n",
    "y_test = rm.data.tournament['target'].astype(float).values"
   ]
  },
  {
   "cell_type": "code",
   "execution_count": 35,
   "id": "88381000",
   "metadata": {
    "ExecuteTime": {
     "end_time": "2021-05-01T11:33:28.395350Z",
     "start_time": "2021-05-01T11:33:27.658428Z"
    },
    "scrolled": true
   },
   "outputs": [
    {
     "name": "stdout",
     "output_type": "stream",
     "text": [
      "Current round: 262\n",
      "Creating <class 'numebot.models.example_model.ExampleModel'>\n",
      "Loading pre-trained model...\n",
      "\n",
      "ERROR: Model rpica_test_1 could not be added to the models list.\n",
      "Can't instantiate abstract class NumeraiModel with abstract methods get_model\n",
      "\n",
      "ERROR: Model rpica_test_2 could not be added to the models list.\n",
      "'float' object has no attribute 'rsplit'\n",
      "\n",
      "ERROR: Model rpica_test_3 could not be added to the models list.\n",
      "'float' object has no attribute 'rsplit'\n"
     ]
    },
    {
     "name": "stderr",
     "output_type": "stream",
     "text": [
      "2021-05-03 10:05:21,018 INFO numerapi.base_api: target file already exists\n"
     ]
    },
    {
     "name": "stdout",
     "output_type": "stream",
     "text": [
      "\n",
      "Model name: rpica\n",
      " - Code: numebot.models.example_model\n",
      " - Model folder: /home/pica/nas_pica/Data/numerai/models/rpica\n",
      " - Model file: model_rpica.xgb\n"
     ]
    }
   ],
   "source": [
    "data_folder = '/home/pica/nas_pica/Data/numerai/'\n",
    "\n",
    "from numebot.round_manager import RoundManager\n",
    "import numpy as np\n",
    "import pandas as pd\n",
    "from sklearn.metrics import mean_squared_error\n",
    "\n",
    "rm = RoundManager(\n",
    "    data_folder, \n",
    "#    nrows=50000,\n",
    ")\n",
    "\n",
    "# Get list of models with their model file\n",
    "rm.models_info()"
   ]
  },
  {
   "cell_type": "code",
   "execution_count": 36,
   "id": "1efafdc8",
   "metadata": {
    "ExecuteTime": {
     "start_time": "2021-05-01T11:29:40.601Z"
    }
   },
   "outputs": [
    {
     "name": "stdout",
     "output_type": "stream",
     "text": [
      "Loading full training data ...\n",
      "Loading full tournament data ...\n"
     ]
    }
   ],
   "source": [
    "from supervised.automl import AutoML \n",
    "\n",
    "feature_cols = [f for f in rm.data.training.columns if f.startswith(\"feature\")]\n",
    "for col in feature_cols:\n",
    "    rm.data.training[col] = rm.data.training[col].astype(float)\n",
    "    \n",
    "X_train = rm.data.training[feature_cols]\n",
    "y_train = rm.data.training['target'].astype(float).values\n",
    "\n",
    "for col in feature_cols:\n",
    "    rm.data.training[col] = rm.data.training[col].astype(float)\n",
    "    rm.data.tournament[col] = rm.data.tournament[col].astype(float)\n",
    "\n",
    "X_test = rm.data.tournament[feature_cols]\n",
    "y_test = rm.data.tournament['target'].astype(float).values"
   ]
  },
  {
   "cell_type": "code",
   "execution_count": 8,
   "id": "5f880221",
   "metadata": {},
   "outputs": [
    {
     "data": {
      "text/plain": [
       "<AxesSubplot:>"
      ]
     },
     "execution_count": 8,
     "metadata": {},
     "output_type": "execute_result"
    },
    {
     "data": {
      "text/plain": [
       "1703902"
      ]
     },
     "execution_count": 8,
     "metadata": {},
     "output_type": "execute_result"
    },
    {
     "data": {
      "image/png": "[encoded data removed]",
      "text/plain": [
       "<Figure size 432x288 with 1 Axes>"
      ]
     },
     "metadata": {
      "needs_background": "light"
     },
     "output_type": "display_data"
    }
   ],
   "source": [
    "pd.Series(y_test).hist()\n",
    "len(y_test)"
   ]
  },
  {
   "cell_type": "code",
   "execution_count": 9,
   "id": "b2410323",
   "metadata": {
    "ExecuteTime": {
     "end_time": "2021-05-01T10:40:02.775763Z",
     "start_time": "2021-05-01T10:40:02.576035Z"
    },
    "code_folding": [],
    "scrolled": false
   },
   "outputs": [
    {
     "name": "stdout",
     "output_type": "stream",
     "text": [
      "Linear algorithm was disabled.\n",
      "AutoML directory: AutoML_15\n",
      "The task is regression with evaluation metric spearman\n",
      "AutoML will use algorithms: ['Random Forest', 'LightGBM', 'Xgboost', 'CatBoost', 'Neural Network']\n",
      "AutoML will ensemble availabe models\n",
      "AutoML steps: ['simple_algorithms', 'default_algorithms', 'not_so_random', 'golden_features', 'insert_random_feature', 'features_selection', 'hill_climbing_1', 'hill_climbing_2', 'ensemble']\n",
      "Skip simple_algorithms because no parameters were generated.\n",
      "* Step default_algorithms will try to check up to 5 models\n",
      "1_Default_LightGBM spearman 0.046744 trained in 190.56 seconds (1-sample predict time 0.1887 seconds)\n",
      "2_Default_Xgboost spearman 0.051469 trained in 345.23 seconds (1-sample predict time 0.1898 seconds)\n",
      "3_Default_CatBoost spearman 0.053536 trained in 625.69 seconds (1-sample predict time 0.3304 seconds)\n"
     ]
    },
    {
     "name": "stderr",
     "output_type": "stream",
     "text": [
      "An input array is constant; the correlation coefficent is not defined.\n",
      "An input array is constant; the correlation coefficent is not defined.\n",
      "An input array is constant; the correlation coefficent is not defined.\n",
      "An input array is constant; the correlation coefficent is not defined.\n"
     ]
    },
    {
     "name": "stdout",
     "output_type": "stream",
     "text": [
      "4_Default_NeuralNetwork spearman 0.028833 trained in 175.23 seconds (1-sample predict time 0.1506 seconds)\n",
      "5_Default_RandomForest spearman 0.041828 trained in 1427.85 seconds (1-sample predict time 0.7092 seconds)\n",
      "* Step not_so_random will try to check up to 20 models\n",
      "10_LightGBM spearman 0.052006 trained in 314.72 seconds (1-sample predict time 0.1915 seconds)\n",
      "6_Xgboost spearman 0.042836 trained in 399.22 seconds (1-sample predict time 0.1897 seconds)\n",
      "14_CatBoost spearman 0.051301 trained in 641.5 seconds (1-sample predict time 0.2101 seconds)\n",
      "18_RandomForest spearman 0.041971 trained in 852.66 seconds (1-sample predict time 0.8876 seconds)\n"
     ]
    },
    {
     "name": "stderr",
     "output_type": "stream",
     "text": [
      "An input array is constant; the correlation coefficent is not defined.\n",
      "An input array is constant; the correlation coefficent is not defined.\n",
      "An input array is constant; the correlation coefficent is not defined.\n",
      "An input array is constant; the correlation coefficent is not defined.\n"
     ]
    },
    {
     "name": "stdout",
     "output_type": "stream",
     "text": [
      "22_NeuralNetwork spearman -0.007069 trained in 146.37 seconds (1-sample predict time 0.1404 seconds)\n",
      "11_LightGBM spearman 0.041094 trained in 196.82 seconds (1-sample predict time 0.1884 seconds)\n",
      "7_Xgboost spearman 0.042698 trained in 416.06 seconds (1-sample predict time 0.1915 seconds)\n",
      "15_CatBoost spearman 0.006581 trained in 396.79 seconds (1-sample predict time 0.4558 seconds)\n",
      "19_RandomForest spearman 0.038061 trained in 1041.83 seconds (1-sample predict time 0.6975 seconds)\n"
     ]
    },
    {
     "name": "stderr",
     "output_type": "stream",
     "text": [
      "An input array is constant; the correlation coefficent is not defined.\n",
      "An input array is constant; the correlation coefficent is not defined.\n"
     ]
    },
    {
     "name": "stdout",
     "output_type": "stream",
     "text": [
      "23_NeuralNetwork spearman 0.031152 trained in 187.78 seconds (1-sample predict time 0.1411 seconds)\n",
      "12_LightGBM spearman 0.047323 trained in 282.52 seconds (1-sample predict time 0.1889 seconds)\n",
      "8_Xgboost spearman 0.046269 trained in 423.78 seconds (1-sample predict time 0.1912 seconds)\n",
      "16_CatBoost spearman 0.050791 trained in 515.9 seconds (1-sample predict time 0.2104 seconds)\n",
      "20_RandomForest spearman 0.047371 trained in 3609.22 seconds (1-sample predict time 0.7025 seconds)\n",
      "* Step golden_features will try to check up to 3 models\n",
      "Add Golden Feature: feature_constitution78_ratio_feature_charisma9\n",
      "Add Golden Feature: feature_strength29_ratio_feature_constitution85\n",
      "Add Golden Feature: feature_constitution85_ratio_feature_strength29\n",
      "Add Golden Feature: feature_charisma1_diff_feature_constitution56\n",
      "Add Golden Feature: feature_constitution85_multiply_feature_charisma47\n",
      "Add Golden Feature: feature_constitution93_ratio_feature_constitution100\n",
      "Add Golden Feature: feature_constitution85_ratio_feature_charisma47\n",
      "Add Golden Feature: feature_charisma1_diff_feature_constitution84\n",
      "Add Golden Feature: feature_constitution68_diff_feature_constitution87\n",
      "Add Golden Feature: feature_constitution43_diff_feature_wisdom32\n",
      "Add Golden Feature: feature_constitution58_diff_feature_constitution78\n",
      "Add Golden Feature: feature_constitution62_sum_feature_charisma25\n",
      "Add Golden Feature: feature_charisma16_diff_feature_constitution85\n",
      "Add Golden Feature: feature_constitution6_ratio_feature_wisdom35\n",
      "Add Golden Feature: feature_constitution62_sum_feature_charisma47\n",
      "Add Golden Feature: feature_strength5_diff_feature_strength20\n",
      "Add Golden Feature: feature_charisma29_ratio_feature_constitution84\n",
      "Add Golden Feature: feature_charisma6_diff_feature_constitution110\n",
      "Add Golden Feature: feature_charisma19_ratio_feature_charisma75\n",
      "Add Golden Feature: feature_constitution53_sum_feature_strength27\n",
      "Add Golden Feature: feature_constitution46_sum_feature_intelligence1\n",
      "Add Golden Feature: feature_wisdom35_sum_feature_charisma69\n",
      "Add Golden Feature: feature_charisma60_multiply_feature_charisma53\n",
      "Add Golden Feature: feature_constitution63_ratio_feature_constitution85\n",
      "Add Golden Feature: feature_dexterity7_sum_feature_charisma69\n",
      "Add Golden Feature: feature_wisdom29_ratio_feature_charisma69\n",
      "Add Golden Feature: feature_constitution43_multiply_feature_charisma25\n",
      "Add Golden Feature: feature_constitution43_ratio_feature_charisma5\n",
      "Add Golden Feature: feature_constitution20_diff_feature_wisdom41\n",
      "Add Golden Feature: feature_constitution21_ratio_feature_constitution84\n",
      "Add Golden Feature: feature_charisma25_ratio_feature_wisdom20\n",
      "Created 31 Golden Features in 24.44 seconds.\n",
      "3_Default_CatBoost_GoldenFeatures spearman 0.051985 trained in 618.64 seconds (1-sample predict time 0.294 seconds)\n",
      "Not enough time to perform features selection. Skip\n",
      "Time needed for features selection ~ 2952.0 seconds\n",
      "Please increase total_time_limit to at least (29578 seconds) to have features selection\n",
      "Skip insert_random_feature because no parameters were generated.\n",
      "Skip features_selection because no parameters were generated.\n",
      "* Step hill_climbing_1 will try to check up to 15 models\n",
      "24_CatBoost spearman 0.005216 trained in 384.22 seconds (1-sample predict time 0.2112 seconds)\n",
      "25_LightGBM spearman 0.052006 trained in 306.1 seconds (1-sample predict time 0.1888 seconds)\n",
      "26_CatBoost_GoldenFeatures spearman 0.006364 trained in 413.05 seconds (1-sample predict time 0.2901 seconds)\n",
      "27_Xgboost spearman 0.052739 trained in 368.58 seconds (1-sample predict time 0.1888 seconds)\n",
      "28_RandomForest spearman 0.044454 trained in 2425.23 seconds (1-sample predict time 0.7019 seconds)\n",
      "* Step hill_climbing_2 will try to check up to 10 models\n",
      "29_Xgboost spearman 0.051139 trained in 401.05 seconds (1-sample predict time 0.6208 seconds)\n",
      "30_LightGBM spearman 0.051781 trained in 373.64 seconds (1-sample predict time 0.1907 seconds)\n",
      "31_LightGBM spearman 0.051781 trained in 370.59 seconds (1-sample predict time 0.1888 seconds)\n",
      "* Step ensemble will try to check up to 1 model\n",
      "There was an error during Ensemble training.\n",
      "Please check AutoML_15/errors.md for details.\n",
      "AutoML fit time: 17887.6 seconds\n",
      "AutoML best model: 3_Default_CatBoost\n"
     ]
    },
    {
     "data": {
      "text/plain": [
       "AutoML(eval_metric='spearman', ml_task='regression', mode='Perform',\n",
       "       total_time_limit=18000)"
      ]
     },
     "execution_count": 9,
     "metadata": {},
     "output_type": "execute_result"
    }
   ],
   "source": [
    "automl = AutoML(\n",
    "    mode=\"Perform\", \n",
    "    total_time_limit=3600*5, \n",
    "    ml_task='regression',    \n",
    "    eval_metric='spearman',\n",
    ")\n",
    "automl.fit(X_train, y_train)"
   ]
  },
  {
   "cell_type": "code",
   "execution_count": 10,
   "id": "ef485dcf",
   "metadata": {
    "ExecuteTime": {
     "end_time": "2021-04-30T22:37:28.128634Z",
     "start_time": "2021-04-30T22:37:28.090929Z"
    }
   },
   "outputs": [
    {
     "data": {
      "text/html": [
       "<div>\n",
       "<style scoped>\n",
       "    .dataframe tbody tr th:only-of-type {\n",
       "        vertical-align: middle;\n",
       "    }\n",
       "\n",
       "    .dataframe tbody tr th {\n",
       "        vertical-align: top;\n",
       "    }\n",
       "\n",
       "    .dataframe thead th {\n",
       "        text-align: right;\n",
       "    }\n",
       "</style>\n",
       "<table border=\"1\" class=\"dataframe\">\n",
       "  <thead>\n",
       "    <tr style=\"text-align: right;\">\n",
       "      <th></th>\n",
       "      <th>feature_intelligence1</th>\n",
       "      <th>feature_intelligence2</th>\n",
       "      <th>feature_intelligence3</th>\n",
       "      <th>feature_intelligence4</th>\n",
       "      <th>feature_intelligence5</th>\n",
       "      <th>feature_intelligence6</th>\n",
       "      <th>feature_intelligence7</th>\n",
       "      <th>feature_intelligence8</th>\n",
       "      <th>feature_intelligence9</th>\n",
       "      <th>feature_intelligence10</th>\n",
       "      <th>...</th>\n",
       "      <th>feature_wisdom37</th>\n",
       "      <th>feature_wisdom38</th>\n",
       "      <th>feature_wisdom39</th>\n",
       "      <th>feature_wisdom40</th>\n",
       "      <th>feature_wisdom41</th>\n",
       "      <th>feature_wisdom42</th>\n",
       "      <th>feature_wisdom43</th>\n",
       "      <th>feature_wisdom44</th>\n",
       "      <th>feature_wisdom45</th>\n",
       "      <th>feature_wisdom46</th>\n",
       "    </tr>\n",
       "    <tr>\n",
       "      <th>id</th>\n",
       "      <th></th>\n",
       "      <th></th>\n",
       "      <th></th>\n",
       "      <th></th>\n",
       "      <th></th>\n",
       "      <th></th>\n",
       "      <th></th>\n",
       "      <th></th>\n",
       "      <th></th>\n",
       "      <th></th>\n",
       "      <th></th>\n",
       "      <th></th>\n",
       "      <th></th>\n",
       "      <th></th>\n",
       "      <th></th>\n",
       "      <th></th>\n",
       "      <th></th>\n",
       "      <th></th>\n",
       "      <th></th>\n",
       "      <th></th>\n",
       "      <th></th>\n",
       "    </tr>\n",
       "  </thead>\n",
       "  <tbody>\n",
       "    <tr>\n",
       "      <th>n0003aa52cab36c2</th>\n",
       "      <td>0.25</td>\n",
       "      <td>0.75</td>\n",
       "      <td>0.50</td>\n",
       "      <td>0.50</td>\n",
       "      <td>0.0</td>\n",
       "      <td>0.75</td>\n",
       "      <td>0.5</td>\n",
       "      <td>0.25</td>\n",
       "      <td>0.50</td>\n",
       "      <td>0.5</td>\n",
       "      <td>...</td>\n",
       "      <td>0.75</td>\n",
       "      <td>0.75</td>\n",
       "      <td>0.75</td>\n",
       "      <td>1.00</td>\n",
       "      <td>0.75</td>\n",
       "      <td>0.50</td>\n",
       "      <td>0.5</td>\n",
       "      <td>1.0</td>\n",
       "      <td>0.00</td>\n",
       "      <td>0.00</td>\n",
       "    </tr>\n",
       "    <tr>\n",
       "      <th>n000920ed083903f</th>\n",
       "      <td>0.75</td>\n",
       "      <td>0.50</td>\n",
       "      <td>0.75</td>\n",
       "      <td>1.00</td>\n",
       "      <td>0.5</td>\n",
       "      <td>0.00</td>\n",
       "      <td>0.0</td>\n",
       "      <td>0.75</td>\n",
       "      <td>0.25</td>\n",
       "      <td>0.0</td>\n",
       "      <td>...</td>\n",
       "      <td>0.50</td>\n",
       "      <td>0.50</td>\n",
       "      <td>0.50</td>\n",
       "      <td>0.75</td>\n",
       "      <td>1.00</td>\n",
       "      <td>0.75</td>\n",
       "      <td>0.5</td>\n",
       "      <td>0.5</td>\n",
       "      <td>0.50</td>\n",
       "      <td>0.50</td>\n",
       "    </tr>\n",
       "    <tr>\n",
       "      <th>n0038e640522c4a6</th>\n",
       "      <td>1.00</td>\n",
       "      <td>0.00</td>\n",
       "      <td>0.00</td>\n",
       "      <td>1.00</td>\n",
       "      <td>1.0</td>\n",
       "      <td>1.00</td>\n",
       "      <td>1.0</td>\n",
       "      <td>1.00</td>\n",
       "      <td>0.50</td>\n",
       "      <td>0.5</td>\n",
       "      <td>...</td>\n",
       "      <td>0.00</td>\n",
       "      <td>0.00</td>\n",
       "      <td>0.00</td>\n",
       "      <td>0.50</td>\n",
       "      <td>0.25</td>\n",
       "      <td>0.00</td>\n",
       "      <td>0.0</td>\n",
       "      <td>0.5</td>\n",
       "      <td>0.50</td>\n",
       "      <td>0.00</td>\n",
       "    </tr>\n",
       "    <tr>\n",
       "      <th>n004ac94a87dc54b</th>\n",
       "      <td>0.75</td>\n",
       "      <td>1.00</td>\n",
       "      <td>1.00</td>\n",
       "      <td>0.50</td>\n",
       "      <td>0.0</td>\n",
       "      <td>0.00</td>\n",
       "      <td>0.0</td>\n",
       "      <td>0.50</td>\n",
       "      <td>0.75</td>\n",
       "      <td>1.0</td>\n",
       "      <td>...</td>\n",
       "      <td>0.00</td>\n",
       "      <td>0.00</td>\n",
       "      <td>0.00</td>\n",
       "      <td>0.00</td>\n",
       "      <td>0.25</td>\n",
       "      <td>0.00</td>\n",
       "      <td>0.0</td>\n",
       "      <td>0.0</td>\n",
       "      <td>0.25</td>\n",
       "      <td>0.25</td>\n",
       "    </tr>\n",
       "    <tr>\n",
       "      <th>n0052fe97ea0c05f</th>\n",
       "      <td>0.25</td>\n",
       "      <td>0.50</td>\n",
       "      <td>0.50</td>\n",
       "      <td>0.25</td>\n",
       "      <td>1.0</td>\n",
       "      <td>0.50</td>\n",
       "      <td>0.5</td>\n",
       "      <td>0.25</td>\n",
       "      <td>0.25</td>\n",
       "      <td>0.5</td>\n",
       "      <td>...</td>\n",
       "      <td>0.50</td>\n",
       "      <td>0.50</td>\n",
       "      <td>0.75</td>\n",
       "      <td>0.00</td>\n",
       "      <td>0.00</td>\n",
       "      <td>0.75</td>\n",
       "      <td>1.0</td>\n",
       "      <td>0.0</td>\n",
       "      <td>0.25</td>\n",
       "      <td>1.00</td>\n",
       "    </tr>\n",
       "  </tbody>\n",
       "</table>\n",
       "<p>5 rows × 310 columns</p>\n",
       "</div>"
      ],
      "text/plain": [
       "                  feature_intelligence1  feature_intelligence2  \\\n",
       "id                                                               \n",
       "n0003aa52cab36c2                   0.25                   0.75   \n",
       "n000920ed083903f                   0.75                   0.50   \n",
       "n0038e640522c4a6                   1.00                   0.00   \n",
       "n004ac94a87dc54b                   0.75                   1.00   \n",
       "n0052fe97ea0c05f                   0.25                   0.50   \n",
       "\n",
       "                  feature_intelligence3  feature_intelligence4  \\\n",
       "id                                                               \n",
       "n0003aa52cab36c2                   0.50                   0.50   \n",
       "n000920ed083903f                   0.75                   1.00   \n",
       "n0038e640522c4a6                   0.00                   1.00   \n",
       "n004ac94a87dc54b                   1.00                   0.50   \n",
       "n0052fe97ea0c05f                   0.50                   0.25   \n",
       "\n",
       "                  feature_intelligence5  feature_intelligence6  \\\n",
       "id                                                               \n",
       "n0003aa52cab36c2                    0.0                   0.75   \n",
       "n000920ed083903f                    0.5                   0.00   \n",
       "n0038e640522c4a6                    1.0                   1.00   \n",
       "n004ac94a87dc54b                    0.0                   0.00   \n",
       "n0052fe97ea0c05f                    1.0                   0.50   \n",
       "\n",
       "                  feature_intelligence7  feature_intelligence8  \\\n",
       "id                                                               \n",
       "n0003aa52cab36c2                    0.5                   0.25   \n",
       "n000920ed083903f                    0.0                   0.75   \n",
       "n0038e640522c4a6                    1.0                   1.00   \n",
       "n004ac94a87dc54b                    0.0                   0.50   \n",
       "n0052fe97ea0c05f                    0.5                   0.25   \n",
       "\n",
       "                  feature_intelligence9  feature_intelligence10  ...  \\\n",
       "id                                                               ...   \n",
       "n0003aa52cab36c2                   0.50                     0.5  ...   \n",
       "n000920ed083903f                   0.25                     0.0  ...   \n",
       "n0038e640522c4a6                   0.50                     0.5  ...   \n",
       "n004ac94a87dc54b                   0.75                     1.0  ...   \n",
       "n0052fe97ea0c05f                   0.25                     0.5  ...   \n",
       "\n",
       "                  feature_wisdom37  feature_wisdom38  feature_wisdom39  \\\n",
       "id                                                                       \n",
       "n0003aa52cab36c2              0.75              0.75              0.75   \n",
       "n000920ed083903f              0.50              0.50              0.50   \n",
       "n0038e640522c4a6              0.00              0.00              0.00   \n",
       "n004ac94a87dc54b              0.00              0.00              0.00   \n",
       "n0052fe97ea0c05f              0.50              0.50              0.75   \n",
       "\n",
       "                  feature_wisdom40  feature_wisdom41  feature_wisdom42  \\\n",
       "id                                                                       \n",
       "n0003aa52cab36c2              1.00              0.75              0.50   \n",
       "n000920ed083903f              0.75              1.00              0.75   \n",
       "n0038e640522c4a6              0.50              0.25              0.00   \n",
       "n004ac94a87dc54b              0.00              0.25              0.00   \n",
       "n0052fe97ea0c05f              0.00              0.00              0.75   \n",
       "\n",
       "                  feature_wisdom43  feature_wisdom44  feature_wisdom45  \\\n",
       "id                                                                       \n",
       "n0003aa52cab36c2               0.5               1.0              0.00   \n",
       "n000920ed083903f               0.5               0.5              0.50   \n",
       "n0038e640522c4a6               0.0               0.5              0.50   \n",
       "n004ac94a87dc54b               0.0               0.0              0.25   \n",
       "n0052fe97ea0c05f               1.0               0.0              0.25   \n",
       "\n",
       "                  feature_wisdom46  \n",
       "id                                  \n",
       "n0003aa52cab36c2              0.00  \n",
       "n000920ed083903f              0.50  \n",
       "n0038e640522c4a6              0.00  \n",
       "n004ac94a87dc54b              0.25  \n",
       "n0052fe97ea0c05f              1.00  \n",
       "\n",
       "[5 rows x 310 columns]"
      ]
     },
     "execution_count": 10,
     "metadata": {},
     "output_type": "execute_result"
    },
    {
     "data": {
      "text/plain": [
       "array([0.25, 0.5 , 1.  , 0.5 , 0.75])"
      ]
     },
     "execution_count": 10,
     "metadata": {},
     "output_type": "execute_result"
    }
   ],
   "source": [
    "X_test.head()\n",
    "y_test[:5]"
   ]
  },
  {
   "cell_type": "code",
   "execution_count": 12,
   "id": "c741cd68",
   "metadata": {
    "ExecuteTime": {
     "end_time": "2021-04-30T22:36:13.043238Z",
     "start_time": "2021-04-30T22:32:09.753304Z"
    }
   },
   "outputs": [
    {
     "name": "stdout",
     "output_type": "stream",
     "text": [
      "Test MSE: 0.049946962404255814\n"
     ]
    },
    {
     "data": {
      "text/plain": [
       "id\n",
       "n0003aa52cab36c2    0.485787\n",
       "n000920ed083903f    0.482559\n",
       "n0038e640522c4a6    0.520629\n",
       "n004ac94a87dc54b    0.498672\n",
       "n0052fe97ea0c05f    0.503101\n",
       "dtype: float64"
      ]
     },
     "execution_count": 12,
     "metadata": {},
     "output_type": "execute_result"
    },
    {
     "data": {
      "text/plain": [
       "<AxesSubplot:>"
      ]
     },
     "execution_count": 12,
     "metadata": {},
     "output_type": "execute_result"
    },
    {
     "data": {
      "image/png": "[encoded data removed]",
      "text/plain": [
       "<Figure size 432x288 with 1 Axes>"
      ]
     },
     "metadata": {
      "needs_background": "light"
     },
     "output_type": "display_data"
    }
   ],
   "source": [
    "\n",
    "\n",
    "# compute the MSE on test data\n",
    "predictions = automl.predict(X_test)\n",
    "valid = ~np.isnan(y_test)\n",
    "print(\"Test MSE:\", mean_squared_error(y_test[valid], predictions[valid]))\n",
    "\n",
    "predictions = pd.Series(predictions, index=rm.data.tournament.index)\n",
    "predictions.head()\n",
    "predictions.hist()\n",
    "\n",
    "predictions = pd.DataFrame(predictions).rename({0: 'prediction'}, axis=1)\n",
    "\n",
    "predictions.to_csv('auto_ml_submission.csv', header=True)"
   ]
  },
  {
   "cell_type": "code",
   "execution_count": 13,
   "id": "df6e6bf9",
   "metadata": {},
   "outputs": [
    {
     "data": {
      "text/plain": [
       "<AxesSubplot:>"
      ]
     },
     "execution_count": 13,
     "metadata": {},
     "output_type": "execute_result"
    },
    {
     "data": {
      "text/plain": [
       "array([[<AxesSubplot:title={'center':'prediction'}>]], dtype=object)"
      ]
     },
     "execution_count": 13,
     "metadata": {},
     "output_type": "execute_result"
    },
    {
     "data": {
      "text/plain": [
       "1703902"
      ]
     },
     "execution_count": 13,
     "metadata": {},
     "output_type": "execute_result"
    },
    {
     "data": {
      "image/png": "[encoded data removed]",
      "text/plain": [
       "<Figure size 432x288 with 1 Axes>"
      ]
     },
     "metadata": {
      "needs_background": "light"
     },
     "output_type": "display_data"
    },
    {
     "data": {
      "image/png": "[encoded data removed]",
      "text/plain": [
       "<Figure size 432x288 with 1 Axes>"
      ]
     },
     "metadata": {
      "needs_background": "light"
     },
     "output_type": "display_data"
    }
   ],
   "source": [
    "pd.Series(y_test).hist()\n",
    "predictions.hist()\n",
    "len(y_test)"
   ]
  },
  {
   "cell_type": "code",
   "execution_count": 14,
   "id": "53b0738f",
   "metadata": {
    "scrolled": false
   },
   "outputs": [
    {
     "name": "stdout",
     "output_type": "stream",
     "text": [
      "Train MSE: 0.0490037715880594\n"
     ]
    },
    {
     "data": {
      "text/plain": [
       "id\n",
       "n000315175b67977    0.490617\n",
       "n0014af834a96cdd    0.502268\n",
       "n001c93979ac41d4    0.481805\n",
       "n0034e4143f22a13    0.498282\n",
       "n00679d1a636062f    0.488117\n",
       "dtype: float64"
      ]
     },
     "execution_count": 14,
     "metadata": {},
     "output_type": "execute_result"
    },
    {
     "data": {
      "text/plain": [
       "<AxesSubplot:>"
      ]
     },
     "execution_count": 14,
     "metadata": {},
     "output_type": "execute_result"
    },
    {
     "data": {
      "text/plain": [
       "<AxesSubplot:>"
      ]
     },
     "execution_count": 14,
     "metadata": {},
     "output_type": "execute_result"
    },
    {
     "data": {
      "text/plain": [
       "<AxesSubplot:>"
      ]
     },
     "execution_count": 14,
     "metadata": {},
     "output_type": "execute_result"
    },
    {
     "data": {
      "text/plain": [
       "501808"
      ]
     },
     "execution_count": 14,
     "metadata": {},
     "output_type": "execute_result"
    },
    {
     "data": {
      "image/png": "[encoded data removed]",
      "text/plain": [
       "<Figure size 432x288 with 1 Axes>"
      ]
     },
     "metadata": {
      "needs_background": "light"
     },
     "output_type": "display_data"
    }
   ],
   "source": [
    "# compute the MSE on train data\n",
    "predictions_train = automl.predict(X_train)\n",
    "print(\"Train MSE:\", mean_squared_error(y_train, predictions_train))\n",
    "\n",
    "predictions_train = pd.Series(predictions_train, index=rm.data.training.index)\n",
    "predictions_train.head()\n",
    "predictions_train.hist()\n",
    "\n",
    "pd.Series(y_train).hist()\n",
    "predictions_train.hist()\n",
    "len(y_train)"
   ]
  },
  {
   "cell_type": "code",
   "execution_count": 60,
   "id": "6d08ffbd",
   "metadata": {
    "ExecuteTime": {
     "end_time": "2021-04-30T19:11:48.225029Z",
     "start_time": "2021-04-30T19:11:48.198650Z"
    }
   },
   "outputs": [
    {
     "data": {
      "text/html": [
       "\n",
       "                <audio  controls=\"controls\" autoplay=\"autoplay\">\n",
       "                    <source src=\"https://sound.peal.io/ps/audios/000/000/537/original/woo_vu_luvub_dub_dub.wav\" type=\"audio/x-wav\" />\n",
       "                    Your browser does not support the audio element.\n",
       "                </audio>\n",
       "              "
      ],
      "text/plain": [
       "<IPython.lib.display.Audio object>"
      ]
     },
     "metadata": {},
     "output_type": "display_data"
    }
   ],
   "source": [
    "from IPython.display import Audio, display\n",
    "def allDone():\n",
    "  display(Audio(url='https://sound.peal.io/ps/audios/000/000/537/original/woo_vu_luvub_dub_dub.wav', autoplay=True))\n",
    "\n",
    "allDone()\n"
   ]
  },
  {
   "cell_type": "markdown",
   "id": "8f90827b",
   "metadata": {
    "hidden": true
   },
   "source": [
    "# RMSE "
   ]
  },
  {
   "cell_type": "code",
   "execution_count": 15,
   "id": "506652a1",
   "metadata": {
    "ExecuteTime": {
     "end_time": "2021-05-01T10:40:02.775763Z",
     "start_time": "2021-05-01T10:40:02.576035Z"
    },
    "code_folding": [],
    "scrolled": false
   },
   "outputs": [
    {
     "name": "stdout",
     "output_type": "stream",
     "text": [
      "Linear algorithm was disabled.\n",
      "AutoML directory: AutoML_16\n",
      "The task is regression with evaluation metric rmse\n",
      "AutoML will use algorithms: ['Random Forest', 'LightGBM', 'Xgboost', 'CatBoost', 'Neural Network']\n",
      "AutoML will ensemble availabe models\n",
      "AutoML steps: ['simple_algorithms', 'default_algorithms', 'not_so_random', 'golden_features', 'insert_random_feature', 'features_selection', 'hill_climbing_1', 'hill_climbing_2', 'ensemble']\n",
      "Skip simple_algorithms because no parameters were generated.\n",
      "* Step default_algorithms will try to check up to 5 models\n",
      "1_Default_LightGBM rmse 0.223028 trained in 152.59 seconds (1-sample predict time 0.1901 seconds)\n",
      "2_Default_Xgboost rmse 0.222968 trained in 267.51 seconds (1-sample predict time 0.1904 seconds)\n",
      "3_Default_CatBoost rmse 0.222947 trained in 320.84 seconds (1-sample predict time 0.2167 seconds)\n",
      "4_Default_NeuralNetwork rmse 0.223265 trained in 174.08 seconds (1-sample predict time 0.1412 seconds)\n",
      "5_Default_RandomForest rmse 0.223131 trained in 1360.61 seconds (1-sample predict time 0.6922 seconds)\n",
      "* Step not_so_random will try to check up to 20 models\n",
      "10_LightGBM rmse 0.222962 trained in 134.64 seconds (1-sample predict time 0.1905 seconds)\n",
      "6_Xgboost rmse 0.223094 trained in 288.35 seconds (1-sample predict time 0.1936 seconds)\n",
      "14_CatBoost rmse 0.222969 trained in 366.83 seconds (1-sample predict time 0.4099 seconds)\n",
      "18_RandomForest rmse 0.223135 trained in 715.55 seconds (1-sample predict time 0.6995 seconds)\n",
      "22_NeuralNetwork rmse 0.223292 trained in 146.61 seconds (1-sample predict time 0.3605 seconds)\n",
      "11_LightGBM rmse 0.223154 trained in 140.91 seconds (1-sample predict time 0.2048 seconds)\n",
      "7_Xgboost rmse 0.223118 trained in 269.89 seconds (1-sample predict time 0.1885 seconds)\n",
      "15_CatBoost rmse 0.223267 trained in 288.87 seconds (1-sample predict time 0.2088 seconds)\n",
      "19_RandomForest rmse 0.223166 trained in 709.68 seconds (1-sample predict time 0.6984 seconds)\n",
      "23_NeuralNetwork rmse 0.223217 trained in 188.36 seconds (1-sample predict time 0.1445 seconds)\n",
      "12_LightGBM rmse 0.223024 trained in 187.73 seconds (1-sample predict time 0.1885 seconds)\n",
      "8_Xgboost rmse 0.223063 trained in 248.97 seconds (1-sample predict time 0.1944 seconds)\n",
      "16_CatBoost rmse 0.222983 trained in 311.99 seconds (1-sample predict time 0.2103 seconds)\n",
      "20_RandomForest rmse 0.223071 trained in 3060.25 seconds (1-sample predict time 0.7015 seconds)\n",
      "24_NeuralNetwork rmse 0.22327 trained in 243.95 seconds (1-sample predict time 0.1435 seconds)\n",
      "13_LightGBM rmse 0.223053 trained in 102.78 seconds (1-sample predict time 0.1907 seconds)\n",
      "9_Xgboost rmse 0.223222 trained in 250.78 seconds (1-sample predict time 0.1882 seconds)\n",
      "17_CatBoost rmse 0.223268 trained in 296.08 seconds (1-sample predict time 0.2109 seconds)\n",
      "21_RandomForest rmse 0.223073 trained in 1478.71 seconds (1-sample predict time 0.6983 seconds)\n",
      "* Step golden_features will try to check up to 3 models\n",
      "Add Golden Feature: feature_constitution78_ratio_feature_charisma9\n",
      "Add Golden Feature: feature_strength29_ratio_feature_constitution85\n",
      "Add Golden Feature: feature_constitution85_ratio_feature_strength29\n",
      "Add Golden Feature: feature_charisma1_diff_feature_constitution56\n",
      "Add Golden Feature: feature_constitution85_multiply_feature_charisma47\n",
      "Add Golden Feature: feature_constitution93_ratio_feature_constitution100\n",
      "Add Golden Feature: feature_constitution85_ratio_feature_charisma47\n",
      "Add Golden Feature: feature_charisma1_diff_feature_constitution84\n",
      "Add Golden Feature: feature_constitution68_diff_feature_constitution87\n",
      "Add Golden Feature: feature_constitution43_diff_feature_wisdom32\n",
      "Add Golden Feature: feature_constitution58_diff_feature_constitution78\n",
      "Add Golden Feature: feature_constitution62_sum_feature_charisma25\n",
      "Add Golden Feature: feature_charisma16_diff_feature_constitution85\n",
      "Add Golden Feature: feature_constitution6_ratio_feature_wisdom35\n",
      "Add Golden Feature: feature_constitution62_sum_feature_charisma47\n",
      "Add Golden Feature: feature_strength5_diff_feature_strength20\n",
      "Add Golden Feature: feature_charisma29_ratio_feature_constitution84\n",
      "Add Golden Feature: feature_charisma6_diff_feature_constitution110\n",
      "Add Golden Feature: feature_charisma19_ratio_feature_charisma75\n",
      "Add Golden Feature: feature_constitution53_sum_feature_strength27\n",
      "Add Golden Feature: feature_constitution46_sum_feature_intelligence1\n",
      "Add Golden Feature: feature_wisdom35_sum_feature_charisma69\n",
      "Add Golden Feature: feature_charisma60_multiply_feature_charisma53\n",
      "Add Golden Feature: feature_constitution63_ratio_feature_constitution85\n",
      "Add Golden Feature: feature_dexterity7_sum_feature_charisma69\n",
      "Add Golden Feature: feature_wisdom29_ratio_feature_charisma69\n",
      "Add Golden Feature: feature_constitution43_multiply_feature_charisma25\n",
      "Add Golden Feature: feature_constitution43_ratio_feature_charisma5\n",
      "Add Golden Feature: feature_constitution20_diff_feature_wisdom41\n",
      "Add Golden Feature: feature_constitution21_ratio_feature_constitution84\n",
      "Add Golden Feature: feature_charisma25_ratio_feature_wisdom20\n",
      "Created 31 Golden Features in 21.34 seconds.\n",
      "3_Default_CatBoost_GoldenFeatures rmse 0.222957 trained in 373.89 seconds (1-sample predict time 0.2954 seconds)\n",
      "10_LightGBM_GoldenFeatures rmse 0.222974 trained in 142.59 seconds (1-sample predict time 0.3011 seconds)\n",
      "2_Default_Xgboost_GoldenFeatures rmse 0.222991 trained in 307.44 seconds (1-sample predict time 0.3068 seconds)\n",
      "Not enough time to perform features selection. Skip\n",
      "Time needed for features selection ~ 2711.0 seconds\n",
      "Please increase total_time_limit to at least (27169 seconds) to have features selection\n",
      "Skip insert_random_feature because no parameters were generated.\n",
      "Skip features_selection because no parameters were generated.\n",
      "* Step hill_climbing_1 will try to check up to 15 models\n",
      "25_CatBoost rmse 0.223268 trained in 320.83 seconds (1-sample predict time 0.2037 seconds)\n",
      "26_CatBoost_GoldenFeatures rmse 0.223268 trained in 363.21 seconds (1-sample predict time 0.2914 seconds)\n",
      "27_LightGBM rmse 0.222962 trained in 213.49 seconds (1-sample predict time 0.1896 seconds)\n",
      "28_LightGBM rmse 0.222962 trained in 218.27 seconds (1-sample predict time 0.1881 seconds)\n",
      "29_Xgboost rmse 0.22297 trained in 251.75 seconds (1-sample predict time 0.1881 seconds)\n",
      "30_LightGBM_GoldenFeatures rmse 0.222967 trained in 239.87 seconds (1-sample predict time 0.3045 seconds)\n",
      "31_LightGBM_GoldenFeatures rmse 0.222981 trained in 235.04 seconds (1-sample predict time 0.3017 seconds)\n",
      "32_Xgboost_GoldenFeatures rmse 0.222993 trained in 319.27 seconds (1-sample predict time 0.3042 seconds)\n",
      "33_RandomForest rmse 0.223102 trained in 1991.36 seconds (1-sample predict time 0.7013 seconds)\n",
      "* Step hill_climbing_2 will try to check up to 14 models\n",
      "34_CatBoost rmse 0.222911 trained in 390.78 seconds (1-sample predict time 0.2094 seconds)\n",
      "35_CatBoost rmse 0.223006 trained in 284.24 seconds (1-sample predict time 0.2096 seconds)\n",
      "36_CatBoost_GoldenFeatures rmse 0.222919 trained in 424.62 seconds (1-sample predict time 0.2994 seconds)\n",
      "38_LightGBM rmse 0.22297 trained in 124.51 seconds (1-sample predict time 0.1879 seconds)\n",
      "* Step ensemble will try to check up to 1 model\n",
      "Ensemble rmse 0.222899 trained in 0.39 seconds (1-sample predict time 0.4496 seconds)\n",
      "AutoML fit time: 17958.73 seconds\n",
      "AutoML best model: Ensemble\n"
     ]
    },
    {
     "data": {
      "text/plain": [
       "AutoML(eval_metric='rmse', ml_task='regression', mode='Perform',\n",
       "       total_time_limit=18000)"
      ]
     },
     "execution_count": 15,
     "metadata": {},
     "output_type": "execute_result"
    }
   ],
   "source": [
    "automl = AutoML(\n",
    "    mode=\"Perform\", \n",
    "    total_time_limit=3600*5, \n",
    "    ml_task='regression',    \n",
    "    eval_metric='rmse',\n",
    ")\n",
    "automl.fit(X_train, y_train)"
   ]
  },
  {
   "cell_type": "code",
   "execution_count": 16,
   "id": "5029a632",
   "metadata": {
    "ExecuteTime": {
     "end_time": "2021-04-30T22:37:28.128634Z",
     "start_time": "2021-04-30T22:37:28.090929Z"
    }
   },
   "outputs": [
    {
     "data": {
      "text/html": [
       "<div>\n",
       "<style scoped>\n",
       "    .dataframe tbody tr th:only-of-type {\n",
       "        vertical-align: middle;\n",
       "    }\n",
       "\n",
       "    .dataframe tbody tr th {\n",
       "        vertical-align: top;\n",
       "    }\n",
       "\n",
       "    .dataframe thead th {\n",
       "        text-align: right;\n",
       "    }\n",
       "</style>\n",
       "<table border=\"1\" class=\"dataframe\">\n",
       "  <thead>\n",
       "    <tr style=\"text-align: right;\">\n",
       "      <th></th>\n",
       "      <th>feature_intelligence1</th>\n",
       "      <th>feature_intelligence2</th>\n",
       "      <th>feature_intelligence3</th>\n",
       "      <th>feature_intelligence4</th>\n",
       "      <th>feature_intelligence5</th>\n",
       "      <th>feature_intelligence6</th>\n",
       "      <th>feature_intelligence7</th>\n",
       "      <th>feature_intelligence8</th>\n",
       "      <th>feature_intelligence9</th>\n",
       "      <th>feature_intelligence10</th>\n",
       "      <th>...</th>\n",
       "      <th>feature_wisdom37</th>\n",
       "      <th>feature_wisdom38</th>\n",
       "      <th>feature_wisdom39</th>\n",
       "      <th>feature_wisdom40</th>\n",
       "      <th>feature_wisdom41</th>\n",
       "      <th>feature_wisdom42</th>\n",
       "      <th>feature_wisdom43</th>\n",
       "      <th>feature_wisdom44</th>\n",
       "      <th>feature_wisdom45</th>\n",
       "      <th>feature_wisdom46</th>\n",
       "    </tr>\n",
       "  </thead>\n",
       "  <tbody>\n",
       "    <tr>\n",
       "      <th>0</th>\n",
       "      <td>0.25</td>\n",
       "      <td>0.75</td>\n",
       "      <td>0.50</td>\n",
       "      <td>0.50</td>\n",
       "      <td>0.0</td>\n",
       "      <td>0.75</td>\n",
       "      <td>0.5</td>\n",
       "      <td>0.25</td>\n",
       "      <td>0.50</td>\n",
       "      <td>0.5</td>\n",
       "      <td>...</td>\n",
       "      <td>0.75</td>\n",
       "      <td>0.75</td>\n",
       "      <td>0.75</td>\n",
       "      <td>1.00</td>\n",
       "      <td>0.75</td>\n",
       "      <td>0.50</td>\n",
       "      <td>0.5</td>\n",
       "      <td>1.0</td>\n",
       "      <td>0.00</td>\n",
       "      <td>0.00</td>\n",
       "    </tr>\n",
       "    <tr>\n",
       "      <th>1</th>\n",
       "      <td>0.75</td>\n",
       "      <td>0.50</td>\n",
       "      <td>0.75</td>\n",
       "      <td>1.00</td>\n",
       "      <td>0.5</td>\n",
       "      <td>0.00</td>\n",
       "      <td>0.0</td>\n",
       "      <td>0.75</td>\n",
       "      <td>0.25</td>\n",
       "      <td>0.0</td>\n",
       "      <td>...</td>\n",
       "      <td>0.50</td>\n",
       "      <td>0.50</td>\n",
       "      <td>0.50</td>\n",
       "      <td>0.75</td>\n",
       "      <td>1.00</td>\n",
       "      <td>0.75</td>\n",
       "      <td>0.5</td>\n",
       "      <td>0.5</td>\n",
       "      <td>0.50</td>\n",
       "      <td>0.50</td>\n",
       "    </tr>\n",
       "    <tr>\n",
       "      <th>2</th>\n",
       "      <td>1.00</td>\n",
       "      <td>0.00</td>\n",
       "      <td>0.00</td>\n",
       "      <td>1.00</td>\n",
       "      <td>1.0</td>\n",
       "      <td>1.00</td>\n",
       "      <td>1.0</td>\n",
       "      <td>1.00</td>\n",
       "      <td>0.50</td>\n",
       "      <td>0.5</td>\n",
       "      <td>...</td>\n",
       "      <td>0.00</td>\n",
       "      <td>0.00</td>\n",
       "      <td>0.00</td>\n",
       "      <td>0.50</td>\n",
       "      <td>0.25</td>\n",
       "      <td>0.00</td>\n",
       "      <td>0.0</td>\n",
       "      <td>0.5</td>\n",
       "      <td>0.50</td>\n",
       "      <td>0.00</td>\n",
       "    </tr>\n",
       "    <tr>\n",
       "      <th>3</th>\n",
       "      <td>0.75</td>\n",
       "      <td>1.00</td>\n",
       "      <td>1.00</td>\n",
       "      <td>0.50</td>\n",
       "      <td>0.0</td>\n",
       "      <td>0.00</td>\n",
       "      <td>0.0</td>\n",
       "      <td>0.50</td>\n",
       "      <td>0.75</td>\n",
       "      <td>1.0</td>\n",
       "      <td>...</td>\n",
       "      <td>0.00</td>\n",
       "      <td>0.00</td>\n",
       "      <td>0.00</td>\n",
       "      <td>0.00</td>\n",
       "      <td>0.25</td>\n",
       "      <td>0.00</td>\n",
       "      <td>0.0</td>\n",
       "      <td>0.0</td>\n",
       "      <td>0.25</td>\n",
       "      <td>0.25</td>\n",
       "    </tr>\n",
       "    <tr>\n",
       "      <th>4</th>\n",
       "      <td>0.25</td>\n",
       "      <td>0.50</td>\n",
       "      <td>0.50</td>\n",
       "      <td>0.25</td>\n",
       "      <td>1.0</td>\n",
       "      <td>0.50</td>\n",
       "      <td>0.5</td>\n",
       "      <td>0.25</td>\n",
       "      <td>0.25</td>\n",
       "      <td>0.5</td>\n",
       "      <td>...</td>\n",
       "      <td>0.50</td>\n",
       "      <td>0.50</td>\n",
       "      <td>0.75</td>\n",
       "      <td>0.00</td>\n",
       "      <td>0.00</td>\n",
       "      <td>0.75</td>\n",
       "      <td>1.0</td>\n",
       "      <td>0.0</td>\n",
       "      <td>0.25</td>\n",
       "      <td>1.00</td>\n",
       "    </tr>\n",
       "  </tbody>\n",
       "</table>\n",
       "<p>5 rows × 310 columns</p>\n",
       "</div>"
      ],
      "text/plain": [
       "   feature_intelligence1  feature_intelligence2  feature_intelligence3  \\\n",
       "0                   0.25                   0.75                   0.50   \n",
       "1                   0.75                   0.50                   0.75   \n",
       "2                   1.00                   0.00                   0.00   \n",
       "3                   0.75                   1.00                   1.00   \n",
       "4                   0.25                   0.50                   0.50   \n",
       "\n",
       "   feature_intelligence4  feature_intelligence5  feature_intelligence6  \\\n",
       "0                   0.50                    0.0                   0.75   \n",
       "1                   1.00                    0.5                   0.00   \n",
       "2                   1.00                    1.0                   1.00   \n",
       "3                   0.50                    0.0                   0.00   \n",
       "4                   0.25                    1.0                   0.50   \n",
       "\n",
       "   feature_intelligence7  feature_intelligence8  feature_intelligence9  \\\n",
       "0                    0.5                   0.25                   0.50   \n",
       "1                    0.0                   0.75                   0.25   \n",
       "2                    1.0                   1.00                   0.50   \n",
       "3                    0.0                   0.50                   0.75   \n",
       "4                    0.5                   0.25                   0.25   \n",
       "\n",
       "   feature_intelligence10  ...  feature_wisdom37  feature_wisdom38  \\\n",
       "0                     0.5  ...              0.75              0.75   \n",
       "1                     0.0  ...              0.50              0.50   \n",
       "2                     0.5  ...              0.00              0.00   \n",
       "3                     1.0  ...              0.00              0.00   \n",
       "4                     0.5  ...              0.50              0.50   \n",
       "\n",
       "   feature_wisdom39  feature_wisdom40  feature_wisdom41  feature_wisdom42  \\\n",
       "0              0.75              1.00              0.75              0.50   \n",
       "1              0.50              0.75              1.00              0.75   \n",
       "2              0.00              0.50              0.25              0.00   \n",
       "3              0.00              0.00              0.25              0.00   \n",
       "4              0.75              0.00              0.00              0.75   \n",
       "\n",
       "   feature_wisdom43  feature_wisdom44  feature_wisdom45  feature_wisdom46  \n",
       "0               0.5               1.0              0.00              0.00  \n",
       "1               0.5               0.5              0.50              0.50  \n",
       "2               0.0               0.5              0.50              0.00  \n",
       "3               0.0               0.0              0.25              0.25  \n",
       "4               1.0               0.0              0.25              1.00  \n",
       "\n",
       "[5 rows x 310 columns]"
      ]
     },
     "execution_count": 16,
     "metadata": {},
     "output_type": "execute_result"
    },
    {
     "data": {
      "text/plain": [
       "array([0.25, 0.5 , 1.  , 0.5 , 0.75])"
      ]
     },
     "execution_count": 16,
     "metadata": {},
     "output_type": "execute_result"
    }
   ],
   "source": [
    "X_test.head()\n",
    "y_test[:5]"
   ]
  },
  {
   "cell_type": "code",
   "execution_count": null,
   "id": "acb8ba2e",
   "metadata": {
    "scrolled": true
   },
   "outputs": [],
   "source": [
    "# Get preds for a model\n",
    "output = model.predict(rm.data.tournament)\n",
    "output.shape\n",
    "output.head()\n",
    "\n",
    "# Get performance of the model"
   ]
  },
  {
   "cell_type": "code",
   "execution_count": null,
   "id": "7bdeac55",
   "metadata": {},
   "outputs": [],
   "source": [
    "# Get predictions for each model\n",
    "rm.generate_predictions_for_all_models()"
   ]
  },
  {
   "cell_type": "code",
   "execution_count": null,
   "id": "3c7f6d6f",
   "metadata": {},
   "outputs": [],
   "source": [
    "# Submit predictions (test with rpica_test_3)\n",
    "# Can I check if I submitted? (for example requesting the scoring)\n"
   ]
  },
  {
   "cell_type": "code",
   "execution_count": null,
   "id": "d9e8f966",
   "metadata": {
    "scrolled": true
   },
   "outputs": [],
   "source": [
    "_=[print(attr) for attr in dir(napi) if not attr.startswith('_')]"
   ]
  },
  {
   "cell_type": "code",
   "execution_count": null,
   "id": "d9a2bdb8",
   "metadata": {},
   "outputs": [],
   "source": [
    "# get competitions\n",
    "all_competitions = napi.get_competitions()\n",
    "all_competitions[:2]"
   ]
  },
  {
   "cell_type": "code",
   "execution_count": null,
   "id": "3e064a6b",
   "metadata": {},
   "outputs": [],
   "source": [
    "# get leaderboard for the current round\n",
    "leaderboard = napi.get_leaderboard(limit=10000)\n",
    "len(leaderboard)\n",
    "leaderboard_dict = {competitor['username']:competitor for competitor in leaderboard}"
   ]
  },
  {
   "cell_type": "code",
   "execution_count": null,
   "id": "a4943c7d",
   "metadata": {},
   "outputs": [],
   "source": [
    "leaderboard_dict['rpica']\n",
    "leaderboard_dict['rpica_test_1']"
   ]
  },
  {
   "cell_type": "code",
   "execution_count": null,
   "id": "5fa54047",
   "metadata": {},
   "outputs": [],
   "source": [
    "# check if a new round has started\n",
    "if napi.check_new_round():\n",
    "    print(\"new round has started wihtin the last 24hours!\")\n",
    "else:\n",
    "    print(\"no new round within the last 24 hours\")"
   ]
  },
  {
   "cell_type": "code",
   "execution_count": null,
   "id": "66be5d1a",
   "metadata": {},
   "outputs": [],
   "source": [
    "# provide api tokens\n",
    "from numebot.secret import PUBLIC_KEY, PRIVATE_KEY\n"
   ]
  },
  {
   "cell_type": "code",
   "execution_count": null,
   "id": "83457e05",
   "metadata": {},
   "outputs": [],
   "source": [
    "napi = numerapi.NumerAPI(PUBLIC_KEY, PRIVATE_KEY)"
   ]
  },
  {
   "cell_type": "code",
   "execution_count": null,
   "id": "9bad9858",
   "metadata": {},
   "outputs": [],
   "source": [
    "models_dict = napi.get_models()\n",
    "\n",
    "# upload predictions\n",
    "#submission_id = napi.upload_predictions(\"preds.csv\", tournament=1)\n",
    "# check submission status\n",
    "napi.submission_status(model_id=models_dict['rpica'])"
   ]
  },
  {
   "cell_type": "code",
   "execution_count": null,
   "id": "5f8c6e3f",
   "metadata": {},
   "outputs": [],
   "source": [
    "import pandas as pd\n",
    "from xgboost import XGBRegressor\n",
    "from pathlib import Path\n",
    "\n",
    "DATA_FOLDER = Path('/home/pica/hdd/nas/Data/numerai/21-03-14 weekly/')\n",
    "DATA_FOLDER = Path('/home/pica/hdd/nas/Data/numerai/numerai_dataset_258/')\n",
    "OUTPUT_FOLDER = Path('/home/pica/hdd/nas/Data/numerai/output/')\n",
    "\n",
    "# training data contains features and targets\n",
    "training_data = pd.read_csv(DATA_FOLDER/\"numerai_training_data.csv\").set_index(\"id\")\n",
    "\n",
    "# tournament data contains features only\n",
    "tournament_data = pd.read_csv(DATA_FOLDER/\"numerai_tournament_data.csv\").set_index(\"id\")\n",
    "feature_names = [f for f in training_data.columns if \"feature\" in f]\n",
    "\n",
    "live_data = tournament_data[tournament_data['data_type'] == 'live']\n",
    "tournament_data = tournament_data[tournament_data['data_type'] != 'live']\n",
    "\n",
    "training_data['era'] = training_data['era'].str.lstrip('era').astype(int)\n",
    "tournament_data['era'] = tournament_data['era'].str.lstrip('era').astype(int)\n",
    "live_data['era'] = live_data['era'].str.lstrip('era')\n",
    "\n",
    "training_data.shape\n",
    "tournament_data.shape\n",
    "live_data.shape"
   ]
  },
  {
   "cell_type": "markdown",
   "id": "f644dc34",
   "metadata": {
    "ExecuteTime": {
     "end_time": "2021-04-05T05:53:42.006522Z",
     "start_time": "2021-04-05T05:53:41.175801Z"
    }
   },
   "source": [
    "## EDA"
   ]
  },
  {
   "cell_type": "code",
   "execution_count": null,
   "id": "23c7ab7f",
   "metadata": {},
   "outputs": [],
   "source": [
    "training_data.info()\n",
    "live_data.info()\n",
    "tournament_data.info()"
   ]
  },
  {
   "cell_type": "code",
   "execution_count": null,
   "id": "fcf09748",
   "metadata": {},
   "outputs": [],
   "source": [
    "import numpy as np"
   ]
  },
  {
   "cell_type": "code",
   "execution_count": null,
   "id": "f60410ce",
   "metadata": {
    "scrolled": false
   },
   "outputs": [],
   "source": [
    "for dataset, set_name in zip([training_data, tournament_data, live_data], ['training', 'tournament', 'live']):\n",
    "    print(f'Info about {set_name}: shape {dataset.shape}')\n",
    "    #dataset[[col for col in dataset.columns if 'feature' not in col]].head(2)\n",
    "    dataset.groupby('data_type')['era'].agg(['count','min','max', pd.Series.nunique, lambda x: sorted(list(np.unique(x)))])\n",
    "    \n",
    "\n",
    "train_era = training_data"
   ]
  },
  {
   "cell_type": "markdown",
   "id": "190e63c1",
   "metadata": {},
   "source": [
    "## Experiment with feature neutralization "
   ]
  },
  {
   "cell_type": "code",
   "execution_count": null,
   "id": "0083fc7a",
   "metadata": {},
   "outputs": [],
   "source": [
    "def neutralize(df, target=\"prediction_kazutsugi\", by=None, proportion=1.0):\n",
    "    if by is None:\n",
    "        by = [x for x in df.columns if x.startswith('feature')]\n",
    "\n",
    "    scores = df[target]\n",
    "    exposures = df[by].values\n",
    "\n",
    "    # constant column to make sure the series is completely neutral to exposures\n",
    "    exposures = np.hstack((exposures, np.array([np.mean(scores)] * len(exposures)).reshape(-1, 1)))\n",
    "\n",
    "    scores -= proportion * (exposures @ (np.linalg.pinv(exposures) @ scores.values))\n",
    "    return scores / scores.std()"
   ]
  },
  {
   "cell_type": "code",
   "execution_count": null,
   "id": "8f4d9dc0",
   "metadata": {},
   "outputs": [],
   "source": [
    "DATA_FOLDER = Path('/home/pica/hdd/nas/Data/numerai/numerai_dataset_258/')\n",
    "OUTPUT_PATH = DATA_FOLDER/'submission.csv'"
   ]
  },
  {
   "cell_type": "code",
   "execution_count": null,
   "id": "cda3b3e4",
   "metadata": {},
   "outputs": [],
   "source": [
    "outputs = pd.read_csv(OUTPUT_PATH).set_index(\"id\")\n",
    "outputs.shape\n",
    "outputs.head(2)\n",
    "len(outputs) - outputs.nunique()"
   ]
  },
  {
   "cell_type": "code",
   "execution_count": null,
   "id": "cc222b91",
   "metadata": {},
   "outputs": [],
   "source": [
    "tournament_data = pd.read_csv(DATA_FOLDER/\"numerai_tournament_data.csv\").set_index(\"id\")\n",
    "tournament_data.shape"
   ]
  },
  {
   "cell_type": "code",
   "execution_count": null,
   "id": "2cb63a44",
   "metadata": {},
   "outputs": [],
   "source": [
    "tournament_data['target'] = outputs\n",
    "tournament_data.shape"
   ]
  },
  {
   "cell_type": "code",
   "execution_count": null,
   "id": "9929fafe",
   "metadata": {},
   "outputs": [],
   "source": [
    "neutralized = neutralize(tournament_data, target='target')"
   ]
  },
  {
   "cell_type": "code",
   "execution_count": null,
   "id": "cccad9be",
   "metadata": {},
   "outputs": [],
   "source": [
    "neutralized = pd.DataFrame(neutralized)\n",
    "neutralized.head(2)"
   ]
  },
  {
   "cell_type": "code",
   "execution_count": null,
   "id": "3c8aeaea",
   "metadata": {},
   "outputs": [],
   "source": [
    "from sklearn.preprocessing import MinMaxScaler\n",
    "scaler = MinMaxScaler()\n",
    "\n",
    "neutralized.rename({'target': 'prediction'}, axis=1, inplace=True)\n",
    "neutralized.head()\n",
    "neutralized_scaled = neutralized.copy()\n",
    "neutralized_scaled[['prediction']] = scaler.fit_transform(neutralized[['prediction']])"
   ]
  },
  {
   "cell_type": "code",
   "execution_count": null,
   "id": "8efad42b",
   "metadata": {},
   "outputs": [],
   "source": [
    "neutralized_scaled.describe().loc[['min', 'max'], :]"
   ]
  },
  {
   "cell_type": "code",
   "execution_count": null,
   "id": "03790186",
   "metadata": {},
   "outputs": [],
   "source": [
    "neutralized_scaled.to_csv(DATA_FOLDER/\"submission_neutralized.csv\", header=True)"
   ]
  },
  {
   "cell_type": "markdown",
   "id": "abffabee",
   "metadata": {
    "heading_collapsed": true
   },
   "source": [
    "## train"
   ]
  },
  {
   "cell_type": "code",
   "execution_count": null,
   "id": "a6fc5560",
   "metadata": {
    "hidden": true
   },
   "outputs": [],
   "source": [
    "# train a model to make predictions on tournament data\n",
    "model = XGBRegressor(max_depth=5, learning_rate=0.01, \\\n",
    "                     n_estimators=2000, colsample_bytree=0.1, n_jobs=-1)\n",
    "model.fit(training_data[feature_names], training_data[\"target\"])\n",
    "\n",
    "# submit predictions to numer.ai\n",
    "predictions = model.predict(tournament_data[feature_names])"
   ]
  },
  {
   "cell_type": "code",
   "execution_count": null,
   "id": "71ae4043",
   "metadata": {
    "hidden": true
   },
   "outputs": [],
   "source": [
    "predictions = pd.DataFrame({'predictions': predictions}, index=tournament_data.index)"
   ]
  },
  {
   "cell_type": "code",
   "execution_count": null,
   "id": "bf36b630",
   "metadata": {
    "hidden": true
   },
   "outputs": [],
   "source": [
    "pd.Series(predictions).shape\n",
    "OUTPUT_FOLDER.mkdir(exist_ok=True, parents=True)\n",
    "pd.Series(predictions).to_csv(OUTPUT_FOLDER/\"predictions.csv\")"
   ]
  },
  {
   "cell_type": "code",
   "execution_count": null,
   "id": "e614087e",
   "metadata": {
    "hidden": true
   },
   "outputs": [],
   "source": [
    "for data in [training_data, tournament_data]:\n",
    "    print(data.shape)\n",
    "    print(data[['era']].nunique())\n",
    "    print(data[['era']].max())\n",
    "    print(data.index.nunique())\n",
    "    data.head()\n",
    "    print('')\n",
    "    "
   ]
  },
  {
   "cell_type": "code",
   "execution_count": null,
   "id": "654cf3ad",
   "metadata": {
    "hidden": true
   },
   "outputs": [],
   "source": [
    "predictions"
   ]
  },
  {
   "cell_type": "code",
   "execution_count": null,
   "id": "5ebfdb16",
   "metadata": {
    "hidden": true
   },
   "outputs": [],
   "source": [
    "training_data.head()\n",
    "tournament_data.head()"
   ]
  },
  {
   "cell_type": "code",
   "execution_count": null,
   "id": "3f503e08",
   "metadata": {
    "hidden": true,
    "scrolled": false
   },
   "outputs": [],
   "source": [
    "tournament_data.shape\n",
    "tournament_data.head()\n",
    "\n",
    "for era in tournament_data['era'].unique():\n",
    "    ids_in_era = tournament_data[tournament_data['era'] == era].index\n",
    "    era_preds = predictions[predictions.index.isin(ids_in_era)]\n",
    "    \n",
    "    if era_preds['predictions'].nunique() != len(era_preds):\n",
    "        print(f'Repeated values in {era}: len {len(era_preds)}, unique values: {era_preds[\"predictions\"].nunique()}')"
   ]
  },
  {
   "cell_type": "code",
   "execution_count": 17,
   "id": "e3658c07",
   "metadata": {
    "ExecuteTime": {
     "end_time": "2021-04-30T22:36:13.043238Z",
     "start_time": "2021-04-30T22:32:09.753304Z"
    }
   },
   "outputs": [
    {
     "name": "stdout",
     "output_type": "stream",
     "text": [
      "Test MSE: 0.0499341992127032\n"
     ]
    },
    {
     "data": {
      "text/plain": [
       "id\n",
       "n0003aa52cab36c2    0.488136\n",
       "n000920ed083903f    0.487659\n",
       "n0038e640522c4a6    0.525015\n",
       "n004ac94a87dc54b    0.501979\n",
       "n0052fe97ea0c05f    0.502004\n",
       "dtype: float64"
      ]
     },
     "execution_count": 17,
     "metadata": {},
     "output_type": "execute_result"
    },
    {
     "data": {
      "text/plain": [
       "<AxesSubplot:>"
      ]
     },
     "execution_count": 17,
     "metadata": {},
     "output_type": "execute_result"
    },
    {
     "data": {
      "image/png": "[encoded data removed]",
      "text/plain": [
       "<Figure size 432x288 with 1 Axes>"
      ]
     },
     "metadata": {
      "needs_background": "light"
     },
     "output_type": "display_data"
    }
   ],
   "source": [
    "# compute the MSE on test data\n",
    "predictions = automl.predict(X_test)\n",
    "valid = ~np.isnan(y_test)\n",
    "print(\"Test MSE:\", mean_squared_error(y_test[valid], predictions[valid]))\n",
    "\n",
    "predictions = pd.Series(predictions, index=rm.data.tournament.index)\n",
    "predictions.head()\n",
    "predictions.hist()\n",
    "\n",
    "predictions = pd.DataFrame(predictions).rename({0: 'prediction'}, axis=1)\n",
    "#predictions.to_csv('auto_ml_submission.csv', header=True)"
   ]
  },
  {
   "cell_type": "code",
   "execution_count": 18,
   "id": "97715dfd",
   "metadata": {},
   "outputs": [
    {
     "data": {
      "text/plain": [
       "<AxesSubplot:>"
      ]
     },
     "execution_count": 18,
     "metadata": {},
     "output_type": "execute_result"
    },
    {
     "data": {
      "text/plain": [
       "array([[<AxesSubplot:title={'center':'prediction'}>]], dtype=object)"
      ]
     },
     "execution_count": 18,
     "metadata": {},
     "output_type": "execute_result"
    },
    {
     "data": {
      "text/plain": [
       "1703902"
      ]
     },
     "execution_count": 18,
     "metadata": {},
     "output_type": "execute_result"
    },
    {
     "data": {
      "image/png": "[encoded data removed]",
      "text/plain": [
       "<Figure size 432x288 with 1 Axes>"
      ]
     },
     "metadata": {
      "needs_background": "light"
     },
     "output_type": "display_data"
    },
    {
     "data": {
      "image/png": "[encoded data removed]",
      "text/plain": [
       "<Figure size 432x288 with 1 Axes>"
      ]
     },
     "metadata": {
      "needs_background": "light"
     },
     "output_type": "display_data"
    }
   ],
   "source": [
    "pd.Series(y_test).hist()\n",
    "predictions.hist()\n",
    "len(y_test)"
   ]
  },
  {
   "cell_type": "code",
   "execution_count": 19,
   "id": "345459df",
   "metadata": {
    "scrolled": false
   },
   "outputs": [
    {
     "name": "stdout",
     "output_type": "stream",
     "text": [
      "Train MSE: 0.04888492273681071\n"
     ]
    },
    {
     "data": {
      "text/plain": [
       "id\n",
       "n000315175b67977    0.495926\n",
       "n0014af834a96cdd    0.501810\n",
       "n001c93979ac41d4    0.481193\n",
       "n0034e4143f22a13    0.497955\n",
       "n00679d1a636062f    0.491375\n",
       "dtype: float64"
      ]
     },
     "execution_count": 19,
     "metadata": {},
     "output_type": "execute_result"
    },
    {
     "data": {
      "text/plain": [
       "<AxesSubplot:>"
      ]
     },
     "execution_count": 19,
     "metadata": {},
     "output_type": "execute_result"
    },
    {
     "data": {
      "text/plain": [
       "<AxesSubplot:>"
      ]
     },
     "execution_count": 19,
     "metadata": {},
     "output_type": "execute_result"
    },
    {
     "data": {
      "text/plain": [
       "<AxesSubplot:>"
      ]
     },
     "execution_count": 19,
     "metadata": {},
     "output_type": "execute_result"
    },
    {
     "data": {
      "text/plain": [
       "501808"
      ]
     },
     "execution_count": 19,
     "metadata": {},
     "output_type": "execute_result"
    },
    {
     "data": {
      "image/png": "[encoded data removed]",
      "text/plain": [
       "<Figure size 432x288 with 1 Axes>"
      ]
     },
     "metadata": {
      "needs_background": "light"
     },
     "output_type": "display_data"
    }
   ],
   "source": [
    "# compute the MSE on train data\n",
    "predictions_train = automl.predict(X_train)\n",
    "print(\"Train MSE:\", mean_squared_error(y_train, predictions_train))\n",
    "\n",
    "predictions_train = pd.Series(predictions_train, index=rm.data.training.index)\n",
    "predictions_train.head()\n",
    "predictions_train.hist()\n",
    "\n",
    "pd.Series(y_train).hist()\n",
    "predictions_train.hist()\n",
    "len(y_train)"
   ]
  },
  {
   "cell_type": "markdown",
   "id": "e99068a1",
   "metadata": {
    "hidden": true
   },
   "source": [
    "# R²"
   ]
  },
  {
   "cell_type": "code",
   "execution_count": 20,
   "id": "bba18aa0",
   "metadata": {
    "ExecuteTime": {
     "end_time": "2021-05-01T10:40:02.775763Z",
     "start_time": "2021-05-01T10:40:02.576035Z"
    },
    "code_folding": [],
    "scrolled": false
   },
   "outputs": [
    {
     "name": "stdout",
     "output_type": "stream",
     "text": [
      "Linear algorithm was disabled.\n",
      "AutoML directory: AutoML_17\n",
      "The task is regression with evaluation metric r2\n",
      "AutoML will use algorithms: ['Random Forest', 'LightGBM', 'Xgboost', 'CatBoost', 'Neural Network']\n",
      "AutoML will ensemble availabe models\n",
      "AutoML steps: ['simple_algorithms', 'default_algorithms', 'not_so_random', 'golden_features', 'insert_random_feature', 'features_selection', 'hill_climbing_1', 'hill_climbing_2', 'ensemble']\n",
      "Skip simple_algorithms because no parameters were generated.\n",
      "* Step default_algorithms will try to check up to 5 models\n",
      "1_Default_LightGBM r2 0.002144 trained in 165.78 seconds (1-sample predict time 0.1929 seconds)\n",
      "2_Default_Xgboost r2 0.002687 trained in 280.46 seconds (1-sample predict time 0.1899 seconds)\n",
      "3_Default_CatBoost r2 0.002874 trained in 324.6 seconds (1-sample predict time 0.2136 seconds)\n",
      "4_Default_NeuralNetwork r2 2.5e-05 trained in 174.55 seconds (1-sample predict time 0.3129 seconds)\n",
      "5_Default_RandomForest r2 0.001221 trained in 1405.71 seconds (1-sample predict time 0.7018 seconds)\n",
      "* Step not_so_random will try to check up to 20 models\n",
      "10_LightGBM r2 0.00274 trained in 146.97 seconds (1-sample predict time 0.415 seconds)\n",
      "6_Xgboost r2 0.001556 trained in 296.41 seconds (1-sample predict time 0.1894 seconds)\n",
      "14_CatBoost r2 0.002678 trained in 373.39 seconds (1-sample predict time 0.2108 seconds)\n",
      "18_RandomForest r2 0.00119 trained in 748.58 seconds (1-sample predict time 0.6986 seconds)\n",
      "22_NeuralNetwork r2 -0.000213 trained in 146.34 seconds (1-sample predict time 0.1425 seconds)\n",
      "11_LightGBM r2 0.001015 trained in 145.18 seconds (1-sample predict time 0.1928 seconds)\n",
      "7_Xgboost r2 0.001345 trained in 277.8 seconds (1-sample predict time 0.1894 seconds)\n",
      "15_CatBoost r2 1e-05 trained in 294.06 seconds (1-sample predict time 0.2117 seconds)\n",
      "19_RandomForest r2 0.000908 trained in 737.46 seconds (1-sample predict time 0.6972 seconds)\n",
      "23_NeuralNetwork r2 0.000454 trained in 189.36 seconds (1-sample predict time 0.146 seconds)\n",
      "12_LightGBM r2 0.002186 trained in 198.43 seconds (1-sample predict time 0.1897 seconds)\n",
      "8_Xgboost r2 0.001838 trained in 250.05 seconds (1-sample predict time 0.1929 seconds)\n",
      "16_CatBoost r2 0.002548 trained in 316.78 seconds (1-sample predict time 0.2118 seconds)\n",
      "20_RandomForest r2 0.001761 trained in 3125.64 seconds (1-sample predict time 0.7066 seconds)\n",
      "24_NeuralNetwork r2 -2.4e-05 trained in 246.12 seconds (1-sample predict time 0.1433 seconds)\n",
      "13_LightGBM r2 0.001922 trained in 104.62 seconds (1-sample predict time 0.1982 seconds)\n",
      "9_Xgboost r2 0.000414 trained in 256.01 seconds (1-sample predict time 0.1892 seconds)\n",
      "17_CatBoost r2 -3e-06 trained in 299.62 seconds (1-sample predict time 0.2092 seconds)\n",
      "21_RandomForest r2 0.001745 trained in 1521.05 seconds (1-sample predict time 0.6995 seconds)\n",
      "25_NeuralNetwork r2 -3.3e-05 trained in 223.19 seconds (1-sample predict time 0.1447 seconds)\n",
      "* Step golden_features will try to check up to 3 models\n",
      "Add Golden Feature: feature_constitution78_ratio_feature_charisma9\n",
      "Add Golden Feature: feature_strength29_ratio_feature_constitution85\n",
      "Add Golden Feature: feature_constitution85_ratio_feature_strength29\n",
      "Add Golden Feature: feature_charisma1_diff_feature_constitution56\n",
      "Add Golden Feature: feature_constitution85_multiply_feature_charisma47\n",
      "Add Golden Feature: feature_constitution93_ratio_feature_constitution100\n",
      "Add Golden Feature: feature_constitution85_ratio_feature_charisma47\n",
      "Add Golden Feature: feature_charisma1_diff_feature_constitution84\n",
      "Add Golden Feature: feature_constitution68_diff_feature_constitution87\n",
      "Add Golden Feature: feature_constitution43_diff_feature_wisdom32\n",
      "Add Golden Feature: feature_constitution58_diff_feature_constitution78\n",
      "Add Golden Feature: feature_constitution62_sum_feature_charisma25\n",
      "Add Golden Feature: feature_charisma16_diff_feature_constitution85\n",
      "Add Golden Feature: feature_constitution6_ratio_feature_wisdom35\n",
      "Add Golden Feature: feature_constitution62_sum_feature_charisma47\n",
      "Add Golden Feature: feature_strength5_diff_feature_strength20\n",
      "Add Golden Feature: feature_charisma29_ratio_feature_constitution84\n",
      "Add Golden Feature: feature_charisma6_diff_feature_constitution110\n",
      "Add Golden Feature: feature_charisma19_ratio_feature_charisma75\n",
      "Add Golden Feature: feature_constitution53_sum_feature_strength27\n",
      "Add Golden Feature: feature_constitution46_sum_feature_intelligence1\n",
      "Add Golden Feature: feature_wisdom35_sum_feature_charisma69\n",
      "Add Golden Feature: feature_charisma60_multiply_feature_charisma53\n",
      "Add Golden Feature: feature_constitution63_ratio_feature_constitution85\n",
      "Add Golden Feature: feature_dexterity7_sum_feature_charisma69\n",
      "Add Golden Feature: feature_wisdom29_ratio_feature_charisma69\n",
      "Add Golden Feature: feature_constitution43_multiply_feature_charisma25\n",
      "Add Golden Feature: feature_constitution43_ratio_feature_charisma5\n",
      "Add Golden Feature: feature_constitution20_diff_feature_wisdom41\n",
      "Add Golden Feature: feature_constitution21_ratio_feature_constitution84\n",
      "Add Golden Feature: feature_charisma25_ratio_feature_wisdom20\n",
      "Created 31 Golden Features in 21.72 seconds.\n",
      "3_Default_CatBoost_GoldenFeatures r2 0.00278 trained in 377.21 seconds (1-sample predict time 0.7302 seconds)\n",
      "10_LightGBM_GoldenFeatures r2 0.002631 trained in 149.87 seconds (1-sample predict time 0.3022 seconds)\n",
      "2_Default_Xgboost_GoldenFeatures r2 0.002476 trained in 313.56 seconds (1-sample predict time 0.3017 seconds)\n",
      "Not enough time to perform features selection. Skip\n",
      "Time needed for features selection ~ 4392.0 seconds\n",
      "Please increase total_time_limit to at least (43976 seconds) to have features selection\n",
      "Skip insert_random_feature because no parameters were generated.\n",
      "Skip features_selection because no parameters were generated.\n",
      "* Step hill_climbing_1 will try to check up to 17 models\n",
      "26_CatBoost r2 0.003193 trained in 395.18 seconds (1-sample predict time 0.671 seconds)\n",
      "27_CatBoost r2 0.002342 trained in 289.54 seconds (1-sample predict time 0.2301 seconds)\n",
      "28_CatBoost_GoldenFeatures r2 0.003122 trained in 467.31 seconds (1-sample predict time 0.3095 seconds)\n",
      "29_CatBoost_GoldenFeatures r2 0.002241 trained in 332.87 seconds (1-sample predict time 0.2956 seconds)\n",
      "30_LightGBM r2 0.002547 trained in 200.48 seconds (1-sample predict time 0.1978 seconds)\n",
      "31_Xgboost r2 0.002917 trained in 315.34 seconds (1-sample predict time 0.2133 seconds)\n",
      "32_Xgboost r2 0.002124 trained in 306.63 seconds (1-sample predict time 0.191 seconds)\n",
      "33_LightGBM_GoldenFeatures r2 0.002319 trained in 215.78 seconds (1-sample predict time 0.3198 seconds)\n",
      "34_Xgboost_GoldenFeatures r2 0.002753 trained in 331.87 seconds (1-sample predict time 0.3117 seconds)\n",
      "35_Xgboost_GoldenFeatures r2 0.001972 trained in 359.61 seconds (1-sample predict time 0.3221 seconds)\n",
      "36_RandomForest r2 0.001487 trained in 2102.64 seconds (1-sample predict time 0.7009 seconds)\n",
      "37_RandomForest r2 0.001988 trained in 3423.37 seconds (1-sample predict time 0.7079 seconds)\n",
      "38_RandomForest r2 0.001471 trained in 1224.51 seconds (1-sample predict time 0.7085 seconds)\n",
      "39_RandomForest r2 0.001934 trained in 1893.16 seconds (1-sample predict time 0.7101 seconds)\n",
      "40_NeuralNetwork r2 -4.9e-05 trained in 182.22 seconds (1-sample predict time 0.1437 seconds)\n",
      "41_NeuralNetwork r2 0.00025 trained in 157.49 seconds (1-sample predict time 0.144 seconds)\n",
      "42_NeuralNetwork r2 -1.7e-05 trained in 224.13 seconds (1-sample predict time 0.1463 seconds)\n",
      "* Step hill_climbing_2 will try to check up to 17 models\n",
      "43_CatBoost r2 0.00308 trained in 375.98 seconds (1-sample predict time 0.2135 seconds)\n",
      "44_CatBoost r2 0.003139 trained in 385.07 seconds (1-sample predict time 0.2184 seconds)\n",
      "45_CatBoost_GoldenFeatures r2 0.00317 trained in 445.34 seconds (1-sample predict time 0.2968 seconds)\n",
      "46_CatBoost_GoldenFeatures r2 0.002901 trained in 412.93 seconds (1-sample predict time 0.2942 seconds)\n",
      "47_Xgboost r2 0.002961 trained in 310.58 seconds (1-sample predict time 0.1918 seconds)\n",
      "48_Xgboost r2 0.002818 trained in 248.36 seconds (1-sample predict time 0.1895 seconds)\n",
      "49_Xgboost_GoldenFeatures r2 0.002814 trained in 344.68 seconds (1-sample predict time 0.3016 seconds)\n",
      "50_Xgboost_GoldenFeatures r2 0.002641 trained in 277.7 seconds (1-sample predict time 0.3042 seconds)\n"
     ]
    },
    {
     "name": "stdout",
     "output_type": "stream",
     "text": [
      "51_LightGBM r2 0.00248 trained in 194.56 seconds (1-sample predict time 0.1891 seconds)\n",
      "52_LightGBM_GoldenFeatures r2 0.00235 trained in 226.19 seconds (1-sample predict time 0.3039 seconds)\n",
      "53_RandomForest r2 0.002012 trained in 3199.33 seconds (1-sample predict time 0.6928 seconds)\n",
      "54_RandomForest r2 0.001938 trained in 1666.35 seconds (1-sample predict time 0.705 seconds)\n",
      "55_RandomForest not trained. Stop training after the first fold. Time needed to train on the first fold 659.0 seconds. The time estimate for training on all folds is larger than total_time_limit.\n",
      "56_NeuralNetwork r2 0.000358 trained in 183.37 seconds (1-sample predict time 0.1477 seconds)\n",
      "57_NeuralNetwork r2 7e-06 trained in 198.51 seconds (1-sample predict time 0.1474 seconds)\n",
      "58_NeuralNetwork r2 -6.2e-05 trained in 173.33 seconds (1-sample predict time 0.1497 seconds)\n",
      "59_NeuralNetwork r2 2.1e-05 trained in 179.46 seconds (1-sample predict time 0.1469 seconds)\n",
      "* Step ensemble will try to check up to 1 model\n",
      "Ensemble r2 0.003332 trained in 0.55 seconds (1-sample predict time 0.5395 seconds)\n",
      "AutoML fit time: 35067.61 seconds\n",
      "AutoML best model: 45_CatBoost_GoldenFeatures\n"
     ]
    },
    {
     "data": {
      "text/plain": [
       "AutoML(eval_metric='r2', ml_task='regression', mode='Perform',\n",
       "       total_time_limit=36000)"
      ]
     },
     "execution_count": 20,
     "metadata": {},
     "output_type": "execute_result"
    }
   ],
   "source": [
    "automl = AutoML(\n",
    "    mode=\"Perform\", \n",
    "    total_time_limit=3600*10, \n",
    "    ml_task='regression',    \n",
    "    eval_metric='r2',\n",
    ")\n",
    "automl.fit(X_train, y_train)"
   ]
  },
  {
   "cell_type": "code",
   "execution_count": 21,
   "id": "55b3e8ab",
   "metadata": {
    "ExecuteTime": {
     "end_time": "2021-04-30T22:37:28.128634Z",
     "start_time": "2021-04-30T22:37:28.090929Z"
    }
   },
   "outputs": [
    {
     "data": {
      "text/html": [
       "<div>\n",
       "<style scoped>\n",
       "    .dataframe tbody tr th:only-of-type {\n",
       "        vertical-align: middle;\n",
       "    }\n",
       "\n",
       "    .dataframe tbody tr th {\n",
       "        vertical-align: top;\n",
       "    }\n",
       "\n",
       "    .dataframe thead th {\n",
       "        text-align: right;\n",
       "    }\n",
       "</style>\n",
       "<table border=\"1\" class=\"dataframe\">\n",
       "  <thead>\n",
       "    <tr style=\"text-align: right;\">\n",
       "      <th></th>\n",
       "      <th>feature_intelligence1</th>\n",
       "      <th>feature_intelligence2</th>\n",
       "      <th>feature_intelligence3</th>\n",
       "      <th>feature_intelligence4</th>\n",
       "      <th>feature_intelligence5</th>\n",
       "      <th>feature_intelligence6</th>\n",
       "      <th>feature_intelligence7</th>\n",
       "      <th>feature_intelligence8</th>\n",
       "      <th>feature_intelligence9</th>\n",
       "      <th>feature_intelligence10</th>\n",
       "      <th>...</th>\n",
       "      <th>feature_wisdom37</th>\n",
       "      <th>feature_wisdom38</th>\n",
       "      <th>feature_wisdom39</th>\n",
       "      <th>feature_wisdom40</th>\n",
       "      <th>feature_wisdom41</th>\n",
       "      <th>feature_wisdom42</th>\n",
       "      <th>feature_wisdom43</th>\n",
       "      <th>feature_wisdom44</th>\n",
       "      <th>feature_wisdom45</th>\n",
       "      <th>feature_wisdom46</th>\n",
       "    </tr>\n",
       "  </thead>\n",
       "  <tbody>\n",
       "    <tr>\n",
       "      <th>0</th>\n",
       "      <td>0.25</td>\n",
       "      <td>0.75</td>\n",
       "      <td>0.50</td>\n",
       "      <td>0.50</td>\n",
       "      <td>0.0</td>\n",
       "      <td>0.75</td>\n",
       "      <td>0.5</td>\n",
       "      <td>0.25</td>\n",
       "      <td>0.50</td>\n",
       "      <td>0.5</td>\n",
       "      <td>...</td>\n",
       "      <td>0.75</td>\n",
       "      <td>0.75</td>\n",
       "      <td>0.75</td>\n",
       "      <td>1.00</td>\n",
       "      <td>0.75</td>\n",
       "      <td>0.50</td>\n",
       "      <td>0.5</td>\n",
       "      <td>1.0</td>\n",
       "      <td>0.00</td>\n",
       "      <td>0.00</td>\n",
       "    </tr>\n",
       "    <tr>\n",
       "      <th>1</th>\n",
       "      <td>0.75</td>\n",
       "      <td>0.50</td>\n",
       "      <td>0.75</td>\n",
       "      <td>1.00</td>\n",
       "      <td>0.5</td>\n",
       "      <td>0.00</td>\n",
       "      <td>0.0</td>\n",
       "      <td>0.75</td>\n",
       "      <td>0.25</td>\n",
       "      <td>0.0</td>\n",
       "      <td>...</td>\n",
       "      <td>0.50</td>\n",
       "      <td>0.50</td>\n",
       "      <td>0.50</td>\n",
       "      <td>0.75</td>\n",
       "      <td>1.00</td>\n",
       "      <td>0.75</td>\n",
       "      <td>0.5</td>\n",
       "      <td>0.5</td>\n",
       "      <td>0.50</td>\n",
       "      <td>0.50</td>\n",
       "    </tr>\n",
       "    <tr>\n",
       "      <th>2</th>\n",
       "      <td>1.00</td>\n",
       "      <td>0.00</td>\n",
       "      <td>0.00</td>\n",
       "      <td>1.00</td>\n",
       "      <td>1.0</td>\n",
       "      <td>1.00</td>\n",
       "      <td>1.0</td>\n",
       "      <td>1.00</td>\n",
       "      <td>0.50</td>\n",
       "      <td>0.5</td>\n",
       "      <td>...</td>\n",
       "      <td>0.00</td>\n",
       "      <td>0.00</td>\n",
       "      <td>0.00</td>\n",
       "      <td>0.50</td>\n",
       "      <td>0.25</td>\n",
       "      <td>0.00</td>\n",
       "      <td>0.0</td>\n",
       "      <td>0.5</td>\n",
       "      <td>0.50</td>\n",
       "      <td>0.00</td>\n",
       "    </tr>\n",
       "    <tr>\n",
       "      <th>3</th>\n",
       "      <td>0.75</td>\n",
       "      <td>1.00</td>\n",
       "      <td>1.00</td>\n",
       "      <td>0.50</td>\n",
       "      <td>0.0</td>\n",
       "      <td>0.00</td>\n",
       "      <td>0.0</td>\n",
       "      <td>0.50</td>\n",
       "      <td>0.75</td>\n",
       "      <td>1.0</td>\n",
       "      <td>...</td>\n",
       "      <td>0.00</td>\n",
       "      <td>0.00</td>\n",
       "      <td>0.00</td>\n",
       "      <td>0.00</td>\n",
       "      <td>0.25</td>\n",
       "      <td>0.00</td>\n",
       "      <td>0.0</td>\n",
       "      <td>0.0</td>\n",
       "      <td>0.25</td>\n",
       "      <td>0.25</td>\n",
       "    </tr>\n",
       "    <tr>\n",
       "      <th>4</th>\n",
       "      <td>0.25</td>\n",
       "      <td>0.50</td>\n",
       "      <td>0.50</td>\n",
       "      <td>0.25</td>\n",
       "      <td>1.0</td>\n",
       "      <td>0.50</td>\n",
       "      <td>0.5</td>\n",
       "      <td>0.25</td>\n",
       "      <td>0.25</td>\n",
       "      <td>0.5</td>\n",
       "      <td>...</td>\n",
       "      <td>0.50</td>\n",
       "      <td>0.50</td>\n",
       "      <td>0.75</td>\n",
       "      <td>0.00</td>\n",
       "      <td>0.00</td>\n",
       "      <td>0.75</td>\n",
       "      <td>1.0</td>\n",
       "      <td>0.0</td>\n",
       "      <td>0.25</td>\n",
       "      <td>1.00</td>\n",
       "    </tr>\n",
       "  </tbody>\n",
       "</table>\n",
       "<p>5 rows × 310 columns</p>\n",
       "</div>"
      ],
      "text/plain": [
       "   feature_intelligence1  feature_intelligence2  feature_intelligence3  \\\n",
       "0                   0.25                   0.75                   0.50   \n",
       "1                   0.75                   0.50                   0.75   \n",
       "2                   1.00                   0.00                   0.00   \n",
       "3                   0.75                   1.00                   1.00   \n",
       "4                   0.25                   0.50                   0.50   \n",
       "\n",
       "   feature_intelligence4  feature_intelligence5  feature_intelligence6  \\\n",
       "0                   0.50                    0.0                   0.75   \n",
       "1                   1.00                    0.5                   0.00   \n",
       "2                   1.00                    1.0                   1.00   \n",
       "3                   0.50                    0.0                   0.00   \n",
       "4                   0.25                    1.0                   0.50   \n",
       "\n",
       "   feature_intelligence7  feature_intelligence8  feature_intelligence9  \\\n",
       "0                    0.5                   0.25                   0.50   \n",
       "1                    0.0                   0.75                   0.25   \n",
       "2                    1.0                   1.00                   0.50   \n",
       "3                    0.0                   0.50                   0.75   \n",
       "4                    0.5                   0.25                   0.25   \n",
       "\n",
       "   feature_intelligence10  ...  feature_wisdom37  feature_wisdom38  \\\n",
       "0                     0.5  ...              0.75              0.75   \n",
       "1                     0.0  ...              0.50              0.50   \n",
       "2                     0.5  ...              0.00              0.00   \n",
       "3                     1.0  ...              0.00              0.00   \n",
       "4                     0.5  ...              0.50              0.50   \n",
       "\n",
       "   feature_wisdom39  feature_wisdom40  feature_wisdom41  feature_wisdom42  \\\n",
       "0              0.75              1.00              0.75              0.50   \n",
       "1              0.50              0.75              1.00              0.75   \n",
       "2              0.00              0.50              0.25              0.00   \n",
       "3              0.00              0.00              0.25              0.00   \n",
       "4              0.75              0.00              0.00              0.75   \n",
       "\n",
       "   feature_wisdom43  feature_wisdom44  feature_wisdom45  feature_wisdom46  \n",
       "0               0.5               1.0              0.00              0.00  \n",
       "1               0.5               0.5              0.50              0.50  \n",
       "2               0.0               0.5              0.50              0.00  \n",
       "3               0.0               0.0              0.25              0.25  \n",
       "4               1.0               0.0              0.25              1.00  \n",
       "\n",
       "[5 rows x 310 columns]"
      ]
     },
     "execution_count": 21,
     "metadata": {},
     "output_type": "execute_result"
    },
    {
     "data": {
      "text/plain": [
       "array([0.25, 0.5 , 1.  , 0.5 , 0.75])"
      ]
     },
     "execution_count": 21,
     "metadata": {},
     "output_type": "execute_result"
    }
   ],
   "source": [
    "X_test.head()\n",
    "y_test[:5]"
   ]
  },
  {
   "cell_type": "code",
   "execution_count": 22,
   "id": "ceedb036",
   "metadata": {
    "ExecuteTime": {
     "end_time": "2021-04-30T22:36:13.043238Z",
     "start_time": "2021-04-30T22:32:09.753304Z"
    }
   },
   "outputs": [
    {
     "name": "stdout",
     "output_type": "stream",
     "text": [
      "Test MSE: 0.04994427355099165\n"
     ]
    },
    {
     "data": {
      "text/plain": [
       "id\n",
       "n0003aa52cab36c2    0.494929\n",
       "n000920ed083903f    0.486247\n",
       "n0038e640522c4a6    0.526219\n",
       "n004ac94a87dc54b    0.504676\n",
       "n0052fe97ea0c05f    0.498951\n",
       "dtype: float64"
      ]
     },
     "execution_count": 22,
     "metadata": {},
     "output_type": "execute_result"
    },
    {
     "data": {
      "text/plain": [
       "<AxesSubplot:>"
      ]
     },
     "execution_count": 22,
     "metadata": {},
     "output_type": "execute_result"
    },
    {
     "data": {
      "image/png": "[encoded data removed]",
      "text/plain": [
       "<Figure size 432x288 with 1 Axes>"
      ]
     },
     "metadata": {
      "needs_background": "light"
     },
     "output_type": "display_data"
    }
   ],
   "source": [
    "# compute the MSE on test data\n",
    "predictions = automl.predict(X_test)\n",
    "valid = ~np.isnan(y_test)\n",
    "print(\"Test MSE:\", mean_squared_error(y_test[valid], predictions[valid]))\n",
    "\n",
    "predictions = pd.Series(predictions, index=rm.data.tournament.index)\n",
    "predictions.head()\n",
    "predictions.hist()\n",
    "\n",
    "predictions = pd.DataFrame(predictions).rename({0: 'prediction'}, axis=1)\n",
    "#predictions.to_csv('auto_ml_submission.csv', header=True)"
   ]
  },
  {
   "cell_type": "code",
   "execution_count": 23,
   "id": "adb70fba",
   "metadata": {},
   "outputs": [
    {
     "data": {
      "text/plain": [
       "<AxesSubplot:>"
      ]
     },
     "execution_count": 23,
     "metadata": {},
     "output_type": "execute_result"
    },
    {
     "data": {
      "text/plain": [
       "array([[<AxesSubplot:title={'center':'prediction'}>]], dtype=object)"
      ]
     },
     "execution_count": 23,
     "metadata": {},
     "output_type": "execute_result"
    },
    {
     "data": {
      "text/plain": [
       "1703902"
      ]
     },
     "execution_count": 23,
     "metadata": {},
     "output_type": "execute_result"
    },
    {
     "data": {
      "image/png": "[encoded data removed]",
      "text/plain": [
       "<Figure size 432x288 with 1 Axes>"
      ]
     },
     "metadata": {
      "needs_background": "light"
     },
     "output_type": "display_data"
    },
    {
     "data": {
      "image/png": "[encoded data removed]",
      "text/plain": [
       "<Figure size 432x288 with 1 Axes>"
      ]
     },
     "metadata": {
      "needs_background": "light"
     },
     "output_type": "display_data"
    }
   ],
   "source": [
    "pd.Series(y_test).hist()\n",
    "predictions.hist()\n",
    "len(y_test)"
   ]
  },
  {
   "cell_type": "code",
   "execution_count": 24,
   "id": "97b6df5f",
   "metadata": {
    "scrolled": false
   },
   "outputs": [
    {
     "name": "stdout",
     "output_type": "stream",
     "text": [
      "Train MSE: 0.049150019221168254\n"
     ]
    },
    {
     "data": {
      "text/plain": [
       "id\n",
       "n000315175b67977    0.492985\n",
       "n0014af834a96cdd    0.500209\n",
       "n001c93979ac41d4    0.486984\n",
       "n0034e4143f22a13    0.495996\n",
       "n00679d1a636062f    0.492534\n",
       "dtype: float64"
      ]
     },
     "execution_count": 24,
     "metadata": {},
     "output_type": "execute_result"
    },
    {
     "data": {
      "text/plain": [
       "<AxesSubplot:>"
      ]
     },
     "execution_count": 24,
     "metadata": {},
     "output_type": "execute_result"
    },
    {
     "data": {
      "text/plain": [
       "<AxesSubplot:>"
      ]
     },
     "execution_count": 24,
     "metadata": {},
     "output_type": "execute_result"
    },
    {
     "data": {
      "text/plain": [
       "<AxesSubplot:>"
      ]
     },
     "execution_count": 24,
     "metadata": {},
     "output_type": "execute_result"
    },
    {
     "data": {
      "text/plain": [
       "501808"
      ]
     },
     "execution_count": 24,
     "metadata": {},
     "output_type": "execute_result"
    },
    {
     "data": {
      "image/png": "[encoded data removed]",
      "text/plain": [
       "<Figure size 432x288 with 1 Axes>"
      ]
     },
     "metadata": {
      "needs_background": "light"
     },
     "output_type": "display_data"
    }
   ],
   "source": [
    "# compute the MSE on train data\n",
    "predictions_train = automl.predict(X_train)\n",
    "print(\"Train MSE:\", mean_squared_error(y_train, predictions_train))\n",
    "\n",
    "predictions_train = pd.Series(predictions_train, index=rm.data.training.index)\n",
    "predictions_train.head()\n",
    "predictions_train.hist()\n",
    "\n",
    "pd.Series(y_train).hist()\n",
    "predictions_train.hist()\n",
    "len(y_train)"
   ]
  },
  {
   "cell_type": "markdown",
   "id": "b1771350",
   "metadata": {
    "hidden": true
   },
   "source": [
    "# rmse - with noisy data"
   ]
  },
  {
   "cell_type": "code",
   "execution_count": null,
   "id": "31b35f2d",
   "metadata": {
    "hidden": true
   },
   "outputs": [],
   "source": []
  },
  {
   "cell_type": "code",
   "execution_count": 26,
   "id": "3b042924",
   "metadata": {
    "ExecuteTime": {
     "start_time": "2021-05-01T11:29:40.601Z"
    }
   },
   "outputs": [
    {
     "name": "stdout",
     "output_type": "stream",
     "text": [
      "(2509040, 311)\n"
     ]
    }
   ],
   "source": [
    "train_with_noise = rm.data.noisy_training(5)\n",
    "print(train_with_noise.shape)\n",
    "for col in feature_cols:\n",
    "    train_with_noise[col] = train_with_noise[col].astype(float)\n",
    "    \n",
    "X_train = train_with_noise[feature_cols]\n",
    "y_train = train_with_noise['target'].astype(float).values"
   ]
  },
  {
   "cell_type": "code",
   "execution_count": null,
   "id": "9d72550e",
   "metadata": {},
   "outputs": [],
   "source": []
  },
  {
   "cell_type": "code",
   "execution_count": null,
   "id": "b47d64d3",
   "metadata": {},
   "outputs": [],
   "source": []
  },
  {
   "cell_type": "code",
   "execution_count": 27,
   "id": "92c04255",
   "metadata": {
    "ExecuteTime": {
     "end_time": "2021-05-01T10:40:02.775763Z",
     "start_time": "2021-05-01T10:40:02.576035Z"
    },
    "code_folding": [],
    "scrolled": false
   },
   "outputs": [
    {
     "name": "stdout",
     "output_type": "stream",
     "text": [
      "Neural Network algorithm was disabled because it doesn't support n_jobs parameter.\n",
      "Linear algorithm was disabled.\n",
      "AutoML directory: AutoML_18\n",
      "The task is regression with evaluation metric rmse\n",
      "AutoML will use algorithms: ['Random Forest', 'LightGBM', 'Xgboost', 'CatBoost']\n",
      "AutoML will ensemble availabe models\n",
      "AutoML steps: ['simple_algorithms', 'default_algorithms', 'not_so_random', 'golden_features', 'insert_random_feature', 'features_selection', 'hill_climbing_1', 'hill_climbing_2', 'ensemble']\n",
      "Skip simple_algorithms because no parameters were generated.\n",
      "* Step default_algorithms will try to check up to 4 models\n",
      "1_Default_LightGBM rmse 0.162652 trained in 10551.71 seconds (1-sample predict time 0.2152 seconds)\n",
      "* Step not_so_random will try to check up to 16 models\n",
      "6_LightGBM rmse 0.179746 trained in 7823.65 seconds (1-sample predict time 0.2129 seconds)\n",
      "Skip golden_features because no parameters were generated.\n",
      "Skip insert_random_feature because no parameters were generated.\n",
      "Skip features_selection because no parameters were generated.\n",
      "* Step hill_climbing_1 will try to check up to 2 models\n",
      "* Step hill_climbing_2 will try to check up to 2 models\n",
      "* Step ensemble will try to check up to 1 model\n",
      "Ensemble rmse 0.162652 trained in 0.2 seconds (1-sample predict time 0.2176 seconds)\n",
      "AutoML fit time: 18490.96 seconds\n",
      "AutoML best model: 1_Default_LightGBM\n"
     ]
    },
    {
     "data": {
      "text/plain": [
       "AutoML(eval_metric='rmse', ml_task='regression', mode='Perform', n_jobs=22,\n",
       "       total_time_limit=21600)"
      ]
     },
     "execution_count": 27,
     "metadata": {},
     "output_type": "execute_result"
    }
   ],
   "source": [
    "automl = AutoML(\n",
    "    mode=\"Perform\", \n",
    "    total_time_limit=3600*6, \n",
    "    ml_task='regression',    \n",
    "    eval_metric='rmse',\n",
    "    n_jobs=22,\n",
    ")\n",
    "automl.fit(X_train, y_train)"
   ]
  },
  {
   "cell_type": "code",
   "execution_count": 28,
   "id": "d12fb7c6",
   "metadata": {
    "ExecuteTime": {
     "end_time": "2021-04-30T22:37:28.128634Z",
     "start_time": "2021-04-30T22:37:28.090929Z"
    }
   },
   "outputs": [
    {
     "data": {
      "text/html": [
       "<div>\n",
       "<style scoped>\n",
       "    .dataframe tbody tr th:only-of-type {\n",
       "        vertical-align: middle;\n",
       "    }\n",
       "\n",
       "    .dataframe tbody tr th {\n",
       "        vertical-align: top;\n",
       "    }\n",
       "\n",
       "    .dataframe thead th {\n",
       "        text-align: right;\n",
       "    }\n",
       "</style>\n",
       "<table border=\"1\" class=\"dataframe\">\n",
       "  <thead>\n",
       "    <tr style=\"text-align: right;\">\n",
       "      <th></th>\n",
       "      <th>feature_intelligence1</th>\n",
       "      <th>feature_intelligence2</th>\n",
       "      <th>feature_intelligence3</th>\n",
       "      <th>feature_intelligence4</th>\n",
       "      <th>feature_intelligence5</th>\n",
       "      <th>feature_intelligence6</th>\n",
       "      <th>feature_intelligence7</th>\n",
       "      <th>feature_intelligence8</th>\n",
       "      <th>feature_intelligence9</th>\n",
       "      <th>feature_intelligence10</th>\n",
       "      <th>...</th>\n",
       "      <th>feature_wisdom37</th>\n",
       "      <th>feature_wisdom38</th>\n",
       "      <th>feature_wisdom39</th>\n",
       "      <th>feature_wisdom40</th>\n",
       "      <th>feature_wisdom41</th>\n",
       "      <th>feature_wisdom42</th>\n",
       "      <th>feature_wisdom43</th>\n",
       "      <th>feature_wisdom44</th>\n",
       "      <th>feature_wisdom45</th>\n",
       "      <th>feature_wisdom46</th>\n",
       "    </tr>\n",
       "  </thead>\n",
       "  <tbody>\n",
       "    <tr>\n",
       "      <th>0</th>\n",
       "      <td>0.25</td>\n",
       "      <td>0.75</td>\n",
       "      <td>0.50</td>\n",
       "      <td>0.50</td>\n",
       "      <td>0.0</td>\n",
       "      <td>0.75</td>\n",
       "      <td>0.5</td>\n",
       "      <td>0.25</td>\n",
       "      <td>0.50</td>\n",
       "      <td>0.5</td>\n",
       "      <td>...</td>\n",
       "      <td>0.75</td>\n",
       "      <td>0.75</td>\n",
       "      <td>0.75</td>\n",
       "      <td>1.00</td>\n",
       "      <td>0.75</td>\n",
       "      <td>0.50</td>\n",
       "      <td>0.5</td>\n",
       "      <td>1.0</td>\n",
       "      <td>0.00</td>\n",
       "      <td>0.00</td>\n",
       "    </tr>\n",
       "    <tr>\n",
       "      <th>1</th>\n",
       "      <td>0.75</td>\n",
       "      <td>0.50</td>\n",
       "      <td>0.75</td>\n",
       "      <td>1.00</td>\n",
       "      <td>0.5</td>\n",
       "      <td>0.00</td>\n",
       "      <td>0.0</td>\n",
       "      <td>0.75</td>\n",
       "      <td>0.25</td>\n",
       "      <td>0.0</td>\n",
       "      <td>...</td>\n",
       "      <td>0.50</td>\n",
       "      <td>0.50</td>\n",
       "      <td>0.50</td>\n",
       "      <td>0.75</td>\n",
       "      <td>1.00</td>\n",
       "      <td>0.75</td>\n",
       "      <td>0.5</td>\n",
       "      <td>0.5</td>\n",
       "      <td>0.50</td>\n",
       "      <td>0.50</td>\n",
       "    </tr>\n",
       "    <tr>\n",
       "      <th>2</th>\n",
       "      <td>1.00</td>\n",
       "      <td>0.00</td>\n",
       "      <td>0.00</td>\n",
       "      <td>1.00</td>\n",
       "      <td>1.0</td>\n",
       "      <td>1.00</td>\n",
       "      <td>1.0</td>\n",
       "      <td>1.00</td>\n",
       "      <td>0.50</td>\n",
       "      <td>0.5</td>\n",
       "      <td>...</td>\n",
       "      <td>0.00</td>\n",
       "      <td>0.00</td>\n",
       "      <td>0.00</td>\n",
       "      <td>0.50</td>\n",
       "      <td>0.25</td>\n",
       "      <td>0.00</td>\n",
       "      <td>0.0</td>\n",
       "      <td>0.5</td>\n",
       "      <td>0.50</td>\n",
       "      <td>0.00</td>\n",
       "    </tr>\n",
       "    <tr>\n",
       "      <th>3</th>\n",
       "      <td>0.75</td>\n",
       "      <td>1.00</td>\n",
       "      <td>1.00</td>\n",
       "      <td>0.50</td>\n",
       "      <td>0.0</td>\n",
       "      <td>0.00</td>\n",
       "      <td>0.0</td>\n",
       "      <td>0.50</td>\n",
       "      <td>0.75</td>\n",
       "      <td>1.0</td>\n",
       "      <td>...</td>\n",
       "      <td>0.00</td>\n",
       "      <td>0.00</td>\n",
       "      <td>0.00</td>\n",
       "      <td>0.00</td>\n",
       "      <td>0.25</td>\n",
       "      <td>0.00</td>\n",
       "      <td>0.0</td>\n",
       "      <td>0.0</td>\n",
       "      <td>0.25</td>\n",
       "      <td>0.25</td>\n",
       "    </tr>\n",
       "    <tr>\n",
       "      <th>4</th>\n",
       "      <td>0.25</td>\n",
       "      <td>0.50</td>\n",
       "      <td>0.50</td>\n",
       "      <td>0.25</td>\n",
       "      <td>1.0</td>\n",
       "      <td>0.50</td>\n",
       "      <td>0.5</td>\n",
       "      <td>0.25</td>\n",
       "      <td>0.25</td>\n",
       "      <td>0.5</td>\n",
       "      <td>...</td>\n",
       "      <td>0.50</td>\n",
       "      <td>0.50</td>\n",
       "      <td>0.75</td>\n",
       "      <td>0.00</td>\n",
       "      <td>0.00</td>\n",
       "      <td>0.75</td>\n",
       "      <td>1.0</td>\n",
       "      <td>0.0</td>\n",
       "      <td>0.25</td>\n",
       "      <td>1.00</td>\n",
       "    </tr>\n",
       "  </tbody>\n",
       "</table>\n",
       "<p>5 rows × 310 columns</p>\n",
       "</div>"
      ],
      "text/plain": [
       "   feature_intelligence1  feature_intelligence2  feature_intelligence3  \\\n",
       "0                   0.25                   0.75                   0.50   \n",
       "1                   0.75                   0.50                   0.75   \n",
       "2                   1.00                   0.00                   0.00   \n",
       "3                   0.75                   1.00                   1.00   \n",
       "4                   0.25                   0.50                   0.50   \n",
       "\n",
       "   feature_intelligence4  feature_intelligence5  feature_intelligence6  \\\n",
       "0                   0.50                    0.0                   0.75   \n",
       "1                   1.00                    0.5                   0.00   \n",
       "2                   1.00                    1.0                   1.00   \n",
       "3                   0.50                    0.0                   0.00   \n",
       "4                   0.25                    1.0                   0.50   \n",
       "\n",
       "   feature_intelligence7  feature_intelligence8  feature_intelligence9  \\\n",
       "0                    0.5                   0.25                   0.50   \n",
       "1                    0.0                   0.75                   0.25   \n",
       "2                    1.0                   1.00                   0.50   \n",
       "3                    0.0                   0.50                   0.75   \n",
       "4                    0.5                   0.25                   0.25   \n",
       "\n",
       "   feature_intelligence10  ...  feature_wisdom37  feature_wisdom38  \\\n",
       "0                     0.5  ...              0.75              0.75   \n",
       "1                     0.0  ...              0.50              0.50   \n",
       "2                     0.5  ...              0.00              0.00   \n",
       "3                     1.0  ...              0.00              0.00   \n",
       "4                     0.5  ...              0.50              0.50   \n",
       "\n",
       "   feature_wisdom39  feature_wisdom40  feature_wisdom41  feature_wisdom42  \\\n",
       "0              0.75              1.00              0.75              0.50   \n",
       "1              0.50              0.75              1.00              0.75   \n",
       "2              0.00              0.50              0.25              0.00   \n",
       "3              0.00              0.00              0.25              0.00   \n",
       "4              0.75              0.00              0.00              0.75   \n",
       "\n",
       "   feature_wisdom43  feature_wisdom44  feature_wisdom45  feature_wisdom46  \n",
       "0               0.5               1.0              0.00              0.00  \n",
       "1               0.5               0.5              0.50              0.50  \n",
       "2               0.0               0.5              0.50              0.00  \n",
       "3               0.0               0.0              0.25              0.25  \n",
       "4               1.0               0.0              0.25              1.00  \n",
       "\n",
       "[5 rows x 310 columns]"
      ]
     },
     "execution_count": 28,
     "metadata": {},
     "output_type": "execute_result"
    },
    {
     "data": {
      "text/plain": [
       "array([0.25, 0.5 , 1.  , 0.5 , 0.75])"
      ]
     },
     "execution_count": 28,
     "metadata": {},
     "output_type": "execute_result"
    }
   ],
   "source": [
    "X_test.head()\n",
    "y_test[:5]"
   ]
  },
  {
   "cell_type": "code",
   "execution_count": 37,
   "id": "b1f220bd",
   "metadata": {
    "ExecuteTime": {
     "end_time": "2021-04-30T22:36:13.043238Z",
     "start_time": "2021-04-30T22:32:09.753304Z"
    }
   },
   "outputs": [
    {
     "name": "stdout",
     "output_type": "stream",
     "text": [
      "Test MSE: 0.053034580147319724\n"
     ]
    },
    {
     "data": {
      "text/plain": [
       "id\n",
       "n0003aa52cab36c2    0.444110\n",
       "n000920ed083903f    0.499724\n",
       "n0038e640522c4a6    0.588695\n",
       "n004ac94a87dc54b    0.415197\n",
       "n0052fe97ea0c05f    0.526896\n",
       "dtype: float64"
      ]
     },
     "execution_count": 37,
     "metadata": {},
     "output_type": "execute_result"
    },
    {
     "data": {
      "text/plain": [
       "<AxesSubplot:>"
      ]
     },
     "execution_count": 37,
     "metadata": {},
     "output_type": "execute_result"
    },
    {
     "data": {
      "image/png": "[encoded data removed]",
      "text/plain": [
       "<Figure size 432x288 with 1 Axes>"
      ]
     },
     "metadata": {
      "needs_background": "light"
     },
     "output_type": "display_data"
    }
   ],
   "source": [
    "# compute the MSE on test data\n",
    "predictions = automl.predict(X_test)\n",
    "valid = ~np.isnan(y_test)\n",
    "print(\"Test MSE:\", mean_squared_error(y_test[valid], predictions[valid]))\n",
    "\n",
    "predictions = pd.Series(predictions, index=rm.data.tournament.index)\n",
    "predictions.head()\n",
    "predictions.hist()\n",
    "\n",
    "predictions = pd.DataFrame(predictions).rename({0: 'prediction'}, axis=1)"
   ]
  },
  {
   "cell_type": "code",
   "execution_count": 38,
   "id": "ee7afaaa",
   "metadata": {
    "ExecuteTime": {
     "end_time": "2021-04-30T22:36:13.043238Z",
     "start_time": "2021-04-30T22:32:09.753304Z"
    }
   },
   "outputs": [],
   "source": [
    "predictions.to_csv('auto_ml_submission_with_noise.csv', header=True)"
   ]
  },
  {
   "cell_type": "code",
   "execution_count": 39,
   "id": "23508f75",
   "metadata": {},
   "outputs": [
    {
     "data": {
      "text/html": [
       "\n",
       "                <audio  controls=\"controls\" autoplay=\"autoplay\">\n",
       "                    <source src=\"https://sound.peal.io/ps/audios/000/000/537/original/woo_vu_luvub_dub_dub.wav\" type=\"audio/x-wav\" />\n",
       "                    Your browser does not support the audio element.\n",
       "                </audio>\n",
       "              "
      ],
      "text/plain": [
       "<IPython.lib.display.Audio object>"
      ]
     },
     "metadata": {},
     "output_type": "display_data"
    }
   ],
   "source": [
    "from IPython.display import Audio, display\n",
    "def make_noise():\n",
    "    display(Audio(url='https://sound.peal.io/ps/audios/000/000/537/original/woo_vu_luvub_dub_dub.wav', autoplay=True))\n",
    "make_noise()"
   ]
  },
  {
   "cell_type": "code",
   "execution_count": 30,
   "id": "21e7c220",
   "metadata": {},
   "outputs": [
    {
     "data": {
      "text/plain": [
       "<AxesSubplot:>"
      ]
     },
     "execution_count": 30,
     "metadata": {},
     "output_type": "execute_result"
    },
    {
     "data": {
      "text/plain": [
       "array([[<AxesSubplot:title={'center':'prediction'}>]], dtype=object)"
      ]
     },
     "execution_count": 30,
     "metadata": {},
     "output_type": "execute_result"
    },
    {
     "data": {
      "text/plain": [
       "1703902"
      ]
     },
     "execution_count": 30,
     "metadata": {},
     "output_type": "execute_result"
    },
    {
     "data": {
      "image/png": "[encoded data removed]",
      "text/plain": [
       "<Figure size 432x288 with 1 Axes>"
      ]
     },
     "metadata": {
      "needs_background": "light"
     },
     "output_type": "display_data"
    },
    {
     "data": {
      "image/png": "[encoded data removed]",
      "text/plain": [
       "<Figure size 432x288 with 1 Axes>"
      ]
     },
     "metadata": {
      "needs_background": "light"
     },
     "output_type": "display_data"
    }
   ],
   "source": [
    "pd.Series(y_test).hist()\n",
    "predictions.hist()\n",
    "len(y_test)"
   ]
  },
  {
   "cell_type": "code",
   "execution_count": null,
   "id": "7d632cb3",
   "metadata": {},
   "outputs": [],
   "source": [
    "# compute the MSE on train data\n",
    "predictions_train = automl.predict(X_train)\n",
    "print(\"Train MSE:\", mean_squared_error(y_train, predictions_train))"
   ]
  },
  {
   "cell_type": "code",
   "execution_count": 33,
   "id": "75457438",
   "metadata": {
    "scrolled": false
   },
   "outputs": [
    {
     "data": {
      "text/plain": [
       "id\n",
       "n000315175b67977    0.499019\n",
       "n0014af834a96cdd    0.447349\n",
       "n001c93979ac41d4    0.425473\n",
       "n0034e4143f22a13    0.421356\n",
       "n00679d1a636062f    0.504439\n",
       "dtype: float64"
      ]
     },
     "execution_count": 33,
     "metadata": {},
     "output_type": "execute_result"
    },
    {
     "data": {
      "text/plain": [
       "<AxesSubplot:>"
      ]
     },
     "execution_count": 33,
     "metadata": {},
     "output_type": "execute_result"
    },
    {
     "data": {
      "text/plain": [
       "<AxesSubplot:>"
      ]
     },
     "execution_count": 33,
     "metadata": {},
     "output_type": "execute_result"
    },
    {
     "data": {
      "text/plain": [
       "<AxesSubplot:>"
      ]
     },
     "execution_count": 33,
     "metadata": {},
     "output_type": "execute_result"
    },
    {
     "data": {
      "text/plain": [
       "2509040"
      ]
     },
     "execution_count": 33,
     "metadata": {},
     "output_type": "execute_result"
    },
    {
     "data": {
      "image/png": "[encoded data removed]",
      "text/plain": [
       "<Figure size 432x288 with 1 Axes>"
      ]
     },
     "metadata": {
      "needs_background": "light"
     },
     "output_type": "display_data"
    }
   ],
   "source": [
    "predictions_train = pd.Series(predictions_train, index=train_with_noise.index)\n",
    "predictions_train.head()\n",
    "predictions_train.hist()\n",
    "\n",
    "pd.Series(y_train).hist()\n",
    "predictions_train.hist()\n",
    "len(y_train)"
   ]
  },
  {
   "cell_type": "code",
   "execution_count": null,
   "id": "5f7e8769",
   "metadata": {
    "hidden": true
   },
   "outputs": [],
   "source": [
    "# carefull i run and remove a create - noisy df cell"
   ]
  },
  {
   "cell_type": "code",
   "execution_count": null,
   "id": "6c7fdd78",
   "metadata": {
    "hidden": true
   },
   "outputs": [],
   "source": [
    "with_noise = rm.data.noisy_training(2)"
   ]
  },
  {
   "cell_type": "code",
   "execution_count": null,
   "id": "0bbd4568",
   "metadata": {
    "hidden": true
   },
   "outputs": [],
   "source": []
  },
  {
   "cell_type": "code",
   "execution_count": null,
   "id": "43b9ae0b",
   "metadata": {
    "hidden": true
   },
   "outputs": [],
   "source": []
  },
  {
   "cell_type": "code",
   "execution_count": null,
   "id": "5fcd3518",
   "metadata": {
    "hidden": true
   },
   "outputs": [],
   "source": []
  }
 ],
 "metadata": {
  "kernelspec": {
   "display_name": "Python 3",
   "language": "python",
   "name": "python3"
  },
  "language_info": {
   "codemirror_mode": {
    "name": "ipython",
    "version": 3
   },
   "file_extension": ".py",
   "mimetype": "text/x-python",
   "name": "python",
   "nbconvert_exporter": "python",
   "pygments_lexer": "ipython3",
   "version": "3.7.10"
  }
 },
 "nbformat": 4,
 "nbformat_minor": 5
}
