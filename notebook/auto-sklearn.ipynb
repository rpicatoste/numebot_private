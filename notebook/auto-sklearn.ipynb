{
 "cells": [
  {
   "cell_type": "markdown",
   "metadata": {},
   "source": [
    "# Using auto-sklearn\n",
    "Links:\n",
    "\n",
    "- https://automl.github.io/auto-sklearn/master/index.html\n"
   ]
  },
  {
   "cell_type": "code",
   "execution_count": null,
   "metadata": {},
   "outputs": [],
   "source": [
    "%load_ext autoreload\n",
    "%autoreload 2\n",
    "%matplotlib inline\n",
    "\n",
    "from IPython.core.interactiveshell import InteractiveShell\n",
    "InteractiveShell.ast_node_interactivity = \"all\"\n",
    "\n",
    "from IPython.display import Audio, display\n",
    "def make_noise():\n",
    "    display(Audio(url='https://sound.peal.io/ps/audios/000/000/537/original/woo_vu_luvub_dub_dub.wav', autoplay=True))"
   ]
  },
  {
   "cell_type": "code",
   "execution_count": null,
   "metadata": {},
   "outputs": [],
   "source": [
    "data_folder = '/home/pica/nas_pica/Data/numerai/'\n",
    "\n",
    "from numebot_private.round_manager_extended import RoundManagerExtended\n",
    "import numpy as np\n",
    "import pandas as pd\n",
    "from sklearn.metrics import mean_squared_error\n",
    "from numebot.secret import PUBLIC_ID, SECRET_KEY\n",
    "import sklearn"
   ]
  },
  {
   "cell_type": "code",
   "execution_count": null,
   "metadata": {
    "scrolled": false
   },
   "outputs": [],
   "source": [
    "from numebot.data.data_constants import NC\n",
    "from numebot.secret import PUBLIC_ID, SECRET_KEY\n",
    "from numebot.env import NUMERAI_DATA_FOLDER, MODEL_CONFIGS_PATH\n",
    "\n",
    "from numebot_private.round_manager_extended import RoundManagerExtended\n",
    "\n",
    "rm = RoundManagerExtended(NUMERAI_DATA_FOLDER,\n",
    "                          model_configs_path=MODEL_CONFIGS_PATH,\n",
    "                          public_id=PUBLIC_ID, \n",
    "                          secret_key=SECRET_KEY, \n",
    "                          save_memory=False,\n",
    "                          #nrows=100000,# testing=True\n",
    "                         )\n",
    "\n",
    "# Get list of models with their model file\n",
    "rm.models_info()"
   ]
  },
  {
   "cell_type": "markdown",
   "metadata": {},
   "source": [
    "# On train val data"
   ]
  },
  {
   "cell_type": "code",
   "execution_count": null,
   "metadata": {},
   "outputs": [],
   "source": [
    "feature_cols = [f for f in rm.data.train.columns if f.startswith(\"feature\")]\n",
    "    \n",
    "X_train = rm.data.train_val[feature_cols].values\n",
    "y_train = rm.data.train_val[NC.target].values\n",
    "groups_train = rm.data.train_val[NC.era].values\n",
    "\n",
    "X_val = rm.data.val[feature_cols]\n",
    "y_val = rm.data.val[NC.target]\n",
    "\n",
    "X_test = rm.data.test[feature_cols]\n",
    "y_test = rm.data.test[NC.target]"
   ]
  },
  {
   "cell_type": "code",
   "execution_count": null,
   "metadata": {},
   "outputs": [],
   "source": [
    "groups_train.shape\n",
    "X_train.shape"
   ]
  },
  {
   "cell_type": "code",
   "execution_count": null,
   "metadata": {},
   "outputs": [],
   "source": [
    "import autosklearn.regression\n",
    "from sklearn.model_selection import GroupKFold\n",
    "from autosklearn.metrics import mean_squared_error\n",
    "import shutil\n",
    "from pathlib import Path\n",
    "\n",
    "n_hours = int(3600*24*1.5)\n",
    "\n",
    "model_name = f'automl_{n_hours}h'\n",
    "file = f'{model_name}.pkl'\n",
    "\n",
    "temp_folder = Path(f'/tmp/autosklearn_regression_{model_name}_tmp')\n",
    "\n",
    "if temp_folder.exists(): shutil.rmtree(temp_folder) \n",
    "\n",
    "automl = autosklearn.regression.AutoSklearnRegressor(\n",
    "    time_left_for_this_task=n_hours,\n",
    "    tmp_folder=temp_folder,\n",
    "    memory_limit=16000,\n",
    "    n_jobs=5,\n",
    "    resampling_strategy=GroupKFold,\n",
    "    resampling_strategy_arguments={'n_splits':5, 'groups': groups_train},\n",
    "    metric=mean_squared_error,\n",
    ")\n",
    "\n",
    "automl.fit(X_train, y_train)\n",
    "automl.refit(X_train, y_train)\n",
    "\n",
    "import pickle\n",
    "\n",
    "pickle.dump(automl, open(file,'wb'))"
   ]
  },
  {
   "cell_type": "code",
   "execution_count": null,
   "metadata": {},
   "outputs": [],
   "source": [
    "print(automl.show_models())"
   ]
  },
  {
   "cell_type": "code",
   "execution_count": null,
   "metadata": {},
   "outputs": [],
   "source": [
    "predictions = automl.predict(X_val)\n",
    "print(\"R2 score:\", sklearn.metrics.r2_score(y_val, predictions))\n",
    "print(\"RMS score:\", sklearn.metrics.mean_squared_error(y_val, predictions))"
   ]
  },
  {
   "cell_type": "code",
   "execution_count": null,
   "metadata": {},
   "outputs": [],
   "source": [
    "feature_cols = [f for f in rm.data.tournament.columns if f.startswith(\"feature\")]\n",
    "output_values = automl.predict(rm.data.tournament[feature_cols])\n",
    "output = pd.DataFrame({'prediction': output_values}, index=rm.data.tournament.index)\n",
    "\n",
    "output.to_csv(f'{model_name}_submission.csv', header=True)"
   ]
  },
  {
   "cell_type": "code",
   "execution_count": null,
   "metadata": {},
   "outputs": [],
   "source": [
    "y_val.hist(bins=100)\n",
    "pd.Series(predictions).hist()\n"
   ]
  },
  {
   "cell_type": "code",
   "execution_count": null,
   "metadata": {},
   "outputs": [],
   "source": [
    "import pickle\n",
    "automl_2 = pickle.load(open(file,'rb'))\n",
    "automl_2.predict(X_val)"
   ]
  },
  {
   "cell_type": "code",
   "execution_count": null,
   "metadata": {},
   "outputs": [],
   "source": [
    "predictions"
   ]
  },
  {
   "cell_type": "markdown",
   "metadata": {},
   "source": [
    "# On test data "
   ]
  },
  {
   "cell_type": "code",
   "execution_count": null,
   "metadata": {},
   "outputs": [],
   "source": [
    "feature_cols = [f for f in rm.data.test.columns if f.startswith(\"feature\")]\n",
    "    \n",
    "X_train = rm.data.test[feature_cols].values\n",
    "y_train = rm.data.test[NC.target].values\n",
    "groups_train = rm.data.test[NC.era].values"
   ]
  },
  {
   "cell_type": "code",
   "execution_count": null,
   "metadata": {},
   "outputs": [],
   "source": [
    "groups_train.shape\n",
    "X_train.shape"
   ]
  },
  {
   "cell_type": "code",
   "execution_count": null,
   "metadata": {},
   "outputs": [],
   "source": [
    "rm.data.test[NC.target].unique()"
   ]
  },
  {
   "cell_type": "code",
   "execution_count": null,
   "metadata": {},
   "outputs": [],
   "source": [
    "rm.data.test.head()"
   ]
  },
  {
   "cell_type": "code",
   "execution_count": null,
   "metadata": {},
   "outputs": [],
   "source": [
    "np.unique(X_train)"
   ]
  },
  {
   "cell_type": "code",
   "execution_count": null,
   "metadata": {},
   "outputs": [],
   "source": [
    "np.unique(y_train)"
   ]
  },
  {
   "cell_type": "code",
   "execution_count": null,
   "metadata": {},
   "outputs": [],
   "source": [
    "import autosklearn.regression\n",
    "from sklearn.model_selection import GroupKFold\n",
    "from autosklearn.metrics import mean_squared_error\n",
    "import shutil\n",
    "from pathlib import Path\n",
    "\n",
    "n_hours = int(3600*24*1.5)\n",
    "\n",
    "model_name = f'automl_test_{n_hours//3600}h'\n",
    "file = f'{model_name}.pkl'\n",
    "\n",
    "temp_folder = Path(f'/tmp/autosklearn_regression_{model_name}_tmp')\n",
    "\n",
    "if temp_folder.exists(): shutil.rmtree(temp_folder) \n",
    "\n",
    "automl = autosklearn.regression.AutoSklearnRegressor(\n",
    "    time_left_for_this_task=n_hours,\n",
    "    tmp_folder=temp_folder,\n",
    "    memory_limit=16000,\n",
    "    n_jobs=5,\n",
    "    resampling_strategy=GroupKFold,\n",
    "    resampling_strategy_arguments={'n_splits':5, 'groups': groups_train},\n",
    "    metric=mean_squared_error,\n",
    ")\n",
    "\n",
    "automl.fit(X_train, y_train)\n",
    "automl.refit(X_train, y_train)\n",
    "\n",
    "import pickle\n",
    "\n",
    "pickle.dump(automl, open(file,'wb'))"
   ]
  },
  {
   "cell_type": "code",
   "execution_count": null,
   "metadata": {},
   "outputs": [],
   "source": [
    "print(f'Finisehd {model_name}')\n",
    "print(automl.show_models())"
   ]
  },
  {
   "cell_type": "code",
   "execution_count": null,
   "metadata": {},
   "outputs": [],
   "source": []
  }
 ],
 "metadata": {
  "kernelspec": {
   "display_name": "Python 3",
   "language": "python",
   "name": "python3"
  },
  "language_info": {
   "codemirror_mode": {
    "name": "ipython",
    "version": 3
   },
   "file_extension": ".py",
   "mimetype": "text/x-python",
   "name": "python",
   "nbconvert_exporter": "python",
   "pygments_lexer": "ipython3",
   "version": "3.8.5"
  }
 },
 "nbformat": 4,
 "nbformat_minor": 5
}
